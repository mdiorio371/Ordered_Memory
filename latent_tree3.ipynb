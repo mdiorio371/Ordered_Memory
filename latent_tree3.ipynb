{
  "nbformat": 4,
  "nbformat_minor": 0,
  "metadata": {
    "colab": {
      "name": "latent_tree3",
      "provenance": []
    },
    "kernelspec": {
      "name": "python3",
      "display_name": "Python 3"
    },
    "accelerator": "GPU"
  },
  "cells": [
    {
      "cell_type": "code",
      "metadata": {
        "id": "2wTjUDH-81FV",
        "colab_type": "code",
        "outputId": "ba2784bd-8e41-4672-ae27-ac76843d9daf",
        "colab": {
          "base_uri": "https://localhost:8080/",
          "height": 128
        }
      },
      "source": [
        "from google.colab import drive\n",
        "drive.mount('/content/gdrive')"
      ],
      "execution_count": 0,
      "outputs": [
        {
          "output_type": "stream",
          "text": [
            "Go to this URL in a browser: https://accounts.google.com/o/oauth2/auth?client_id=947318989803-6bn6qk8qdgf4n4g3pfee6491hc0brc4i.apps.googleusercontent.com&redirect_uri=urn%3aietf%3awg%3aoauth%3a2.0%3aoob&response_type=code&scope=email%20https%3a%2f%2fwww.googleapis.com%2fauth%2fdocs.test%20https%3a%2f%2fwww.googleapis.com%2fauth%2fdrive%20https%3a%2f%2fwww.googleapis.com%2fauth%2fdrive.photos.readonly%20https%3a%2f%2fwww.googleapis.com%2fauth%2fpeopleapi.readonly\n",
            "\n",
            "Enter your authorization code:\n",
            "··········\n",
            "Mounted at /content/gdrive\n"
          ],
          "name": "stdout"
        }
      ]
    },
    {
      "cell_type": "code",
      "metadata": {
        "id": "lctSm60Zn8UV",
        "colab_type": "code",
        "outputId": "158318e1-92fb-4bf0-b492-651db73aee2c",
        "colab": {
          "base_uri": "https://localhost:8080/",
          "height": 35
        }
      },
      "source": [
        "pwd\n"
      ],
      "execution_count": 0,
      "outputs": [
        {
          "output_type": "execute_result",
          "data": {
            "text/plain": [
              "'/content'"
            ]
          },
          "metadata": {
            "tags": []
          },
          "execution_count": 2
        }
      ]
    },
    {
      "cell_type": "markdown",
      "metadata": {
        "id": "4l7WvBAvkJd7",
        "colab_type": "text"
      },
      "source": [
        "See instructions (but following this page should work too)\n",
        "https://github.com/facebookresearch/latent-treelstm"
      ]
    },
    {
      "cell_type": "code",
      "metadata": {
        "id": "_8iY71Y0-tpq",
        "colab_type": "code",
        "outputId": "667d2995-4edc-49c6-a4f8-767ac7020bd4",
        "colab": {
          "base_uri": "https://localhost:8080/",
          "height": 35
        }
      },
      "source": [
        "%cd 'gdrive/My Drive/Colab Notebooks/'"
      ],
      "execution_count": 0,
      "outputs": [
        {
          "output_type": "stream",
          "text": [
            "/content/gdrive/My Drive/Colab Notebooks\n"
          ],
          "name": "stdout"
        }
      ]
    },
    {
      "cell_type": "code",
      "metadata": {
        "id": "CcIzv7kwoFZK",
        "colab_type": "code",
        "outputId": "c612b270-f587-44d1-a17d-a52625ea6126",
        "colab": {
          "base_uri": "https://localhost:8080/",
          "height": 115
        }
      },
      "source": [
        "#!git clone https://github.com/yikangshen/Ordered-Memory.git"
      ],
      "execution_count": 0,
      "outputs": [
        {
          "output_type": "stream",
          "text": [
            "Cloning into 'Ordered-Memory'...\n",
            "remote: Enumerating objects: 79, done.\u001b[K\n",
            "remote: Counting objects: 100% (79/79), done.\u001b[K\n",
            "remote: Compressing objects: 100% (54/54), done.\u001b[K\n",
            "remote: Total 79 (delta 27), reused 70 (delta 23), pack-reused 0\u001b[K\n",
            "Unpacking objects: 100% (79/79), done.\n"
          ],
          "name": "stdout"
        }
      ]
    },
    {
      "cell_type": "markdown",
      "metadata": {
        "id": "MBNMc0GR--gs",
        "colab_type": "text"
      },
      "source": [
        "Clone to your drive. Only do once.(even if reconnecting, since a copy will  be permenantly in your google drive)"
      ]
    },
    {
      "cell_type": "code",
      "metadata": {
        "id": "MobKzbXC-vc4",
        "colab_type": "code",
        "outputId": "399fad25-b6f3-4f8a-d10a-83299c6467d9",
        "colab": {
          "base_uri": "https://localhost:8080/",
          "height": 148
        }
      },
      "source": [
        "#!git clone https://github.com/facebookresearch/latent-treelstm.git"
      ],
      "execution_count": 0,
      "outputs": [
        {
          "output_type": "stream",
          "text": [
            "Cloning into 'latent-treelstm'...\n",
            "remote: Enumerating objects: 93, done.\u001b[K\n",
            "remote: Counting objects: 100% (93/93), done.\u001b[K\n",
            "remote: Compressing objects: 100% (65/65), done.\u001b[K\n",
            "remote: Total 93 (delta 26), reused 89 (delta 24), pack-reused 0\u001b[K\n",
            "Unpacking objects: 100% (93/93), done.\n"
          ],
          "name": "stdout"
        }
      ]
    },
    {
      "cell_type": "code",
      "metadata": {
        "id": "Dv8a-QFsnsF6",
        "colab_type": "code",
        "colab": {}
      },
      "source": [
        ""
      ],
      "execution_count": 0,
      "outputs": []
    },
    {
      "cell_type": "markdown",
      "metadata": {
        "id": "MmMRZbYp_i29",
        "colab_type": "text"
      },
      "source": [
        "Move to the latent tree directory"
      ]
    },
    {
      "cell_type": "code",
      "metadata": {
        "id": "ezTY7oFW_SKE",
        "colab_type": "code",
        "outputId": "4e5779cf-4709-499a-b353-0fc2db315b37",
        "colab": {
          "base_uri": "https://localhost:8080/",
          "height": 35
        }
      },
      "source": [
        "%cd latent-treelstm/"
      ],
      "execution_count": 0,
      "outputs": [
        {
          "output_type": "stream",
          "text": [
            "/content/gdrive/My Drive/Colab Notebooks/latent-treelstm\n"
          ],
          "name": "stdout"
        }
      ]
    },
    {
      "cell_type": "markdown",
      "metadata": {
        "id": "pFiiTWRLAt_6",
        "colab_type": "text"
      },
      "source": [
        "Make sure to have downloaded the data \\ \n",
        "Place it in: data/listops/external folder\\\n",
        "\n",
        "I made a first 20k line smaller version\\\n",
        "run the data split\n",
        "\n",
        "\n"
      ]
    },
    {
      "cell_type": "code",
      "metadata": {
        "id": "3nqmbAby_rDd",
        "colab_type": "code",
        "colab": {}
      },
      "source": [
        "!python listops/data_preprocessing/split.py"
      ],
      "execution_count": 0,
      "outputs": []
    },
    {
      "cell_type": "code",
      "metadata": {
        "id": "xG_hahiBnCDM",
        "colab_type": "code",
        "outputId": "679bef4e-5109-42e7-cafa-bc7ede1f21c8",
        "colab": {
          "base_uri": "https://localhost:8080/",
          "height": 51
        }
      },
      "source": [
        "ls"
      ],
      "execution_count": 0,
      "outputs": [
        {
          "output_type": "stream",
          "text": [
            "CODE_OF_CONDUCT.md  \u001b[0m\u001b[01;34mdata\u001b[0m/    \u001b[01;34mlistops\u001b[0m/  \u001b[01;34mnli\u001b[0m/       requirements.txt  utils.py\n",
            "CONTRIBUTING.md     LICENSE  \u001b[01;34mmodules\u001b[0m/  README.md  \u001b[01;34msst\u001b[0m/\n"
          ],
          "name": "stdout"
        }
      ]
    },
    {
      "cell_type": "markdown",
      "metadata": {
        "id": "o2cEsZ3FBnWG",
        "colab_type": "text"
      },
      "source": [
        "Build the vocab"
      ]
    },
    {
      "cell_type": "code",
      "metadata": {
        "id": "u9QAUVsXBpjC",
        "colab_type": "code",
        "outputId": "e634e1f0-2930-4f49-f51e-9fff24468c59",
        "colab": {
          "base_uri": "https://localhost:8080/",
          "height": 90
        }
      },
      "source": [
        "!pwd\n",
        "!python -m listops.data_preprocessing.build_vocab"
      ],
      "execution_count": 0,
      "outputs": [
        {
          "output_type": "stream",
          "text": [
            "/content/gdrive/My Drive/Colab Notebooks/latent-treelstm\n",
            "file path: data/listops/interim/train.tsv\n",
            "number of skipped sentences due to length > inf: 0\n",
            "number of skipped sentences due to length < 2: 0\n"
          ],
          "name": "stdout"
        }
      ]
    },
    {
      "cell_type": "code",
      "metadata": {
        "id": "1dFrAWxWFMq-",
        "colab_type": "code",
        "colab": {}
      },
      "source": [
        "#not sure if actually useful\n",
        "import sys\n",
        "sys.path.append('/content/gdrive/My Drive/Colab Notebooks/latent-treelstm/')"
      ],
      "execution_count": 0,
      "outputs": []
    },
    {
      "cell_type": "markdown",
      "metadata": {
        "id": "Q1EPF1BCjbB7",
        "colab_type": "text"
      },
      "source": [
        "Install tensorboard"
      ]
    },
    {
      "cell_type": "code",
      "metadata": {
        "id": "wqKFcjuXGC_G",
        "colab_type": "code",
        "outputId": "2379d6f6-0d87-4242-c20f-1e0c00358b4c",
        "colab": {
          "base_uri": "https://localhost:8080/",
          "height": 181
        }
      },
      "source": [
        "!pip install tensorboardX\n",
        "from tensorboardX import SummaryWriter"
      ],
      "execution_count": 0,
      "outputs": [
        {
          "output_type": "stream",
          "text": [
            "Collecting tensorboardX\n",
            "\u001b[?25l  Downloading https://files.pythonhosted.org/packages/a6/5c/e918d9f190baab8d55bad52840d8091dd5114cc99f03eaa6d72d404503cc/tensorboardX-1.9-py2.py3-none-any.whl (190kB)\n",
            "\u001b[K     |████████████████████████████████| 194kB 2.7MB/s \n",
            "\u001b[?25hRequirement already satisfied: numpy in /usr/local/lib/python3.6/dist-packages (from tensorboardX) (1.17.4)\n",
            "Requirement already satisfied: protobuf>=3.8.0 in /usr/local/lib/python3.6/dist-packages (from tensorboardX) (3.10.0)\n",
            "Requirement already satisfied: six in /usr/local/lib/python3.6/dist-packages (from tensorboardX) (1.12.0)\n",
            "Requirement already satisfied: setuptools in /usr/local/lib/python3.6/dist-packages (from protobuf>=3.8.0->tensorboardX) (42.0.2)\n",
            "Installing collected packages: tensorboardX\n",
            "Successfully installed tensorboardX-1.9\n"
          ],
          "name": "stdout"
        }
      ]
    },
    {
      "cell_type": "code",
      "metadata": {
        "id": "sq61DYvpEFwh",
        "colab_type": "code",
        "colab": {}
      },
      "source": [
        "#Original\n",
        "#!python -m listops.reinforce.train_reinforce_model"
      ],
      "execution_count": 0,
      "outputs": []
    },
    {
      "cell_type": "code",
      "metadata": {
        "id": "VQ65ozqqyuOC",
        "colab_type": "code",
        "colab": {}
      },
      "source": [
        ""
      ],
      "execution_count": 0,
      "outputs": []
    },
    {
      "cell_type": "code",
      "metadata": {
        "id": "oIeq3hYxyuRK",
        "colab_type": "code",
        "colab": {}
      },
      "source": [
        "#!python listops/ppo/train_ppo_model.py"
      ],
      "execution_count": 0,
      "outputs": []
    },
    {
      "cell_type": "markdown",
      "metadata": {
        "id": "_0X_MbsGjRFs",
        "colab_type": "text"
      },
      "source": [
        "Run the training"
      ]
    },
    {
      "cell_type": "code",
      "metadata": {
        "id": "41wgGMAbLVcf",
        "colab_type": "code",
        "outputId": "3e5b3b9c-b323-4b8b-9703-b41b6747b965",
        "colab": {
          "base_uri": "https://localhost:8080/",
          "height": 1000
        }
      },
      "source": [
        "!python -m listops.reinforce.train_reinforce_model --optimizer adam --max-epoch 50 --model-dir data/listops/reinforce/models/exp_adam_1 --logs-path data/listops/reinforce/logs/exp_adam_1 --tensorboard-path data/listops/reinforce/tensorboard/exp_adam_1"
      ],
      "execution_count": 0,
      "outputs": [
        {
          "output_type": "stream",
          "text": [
            "data/listops/reinforce/logs/exp_adam_1/l-8402692092386421723.log\n",
            "file path: data/listops/interim/train.tsv\n",
            "number of skipped sentences due to length > 130: 1578\n",
            "number of skipped sentences due to length < 2: 0\n",
            "file path: data/listops/interim/valid.tsv\n",
            "number of skipped sentences due to length > 300: 13\n",
            "number of skipped sentences due to length < 2: 0\n",
            "file path: data/listops/interim/test.tsv\n",
            "number of skipped sentences due to length > inf: 0\n",
            "number of skipped sentences due to length < 2: 1\n",
            "WARNING:root:NaN or Inf found in input tensor.\n",
            "INFO:general_logger:Train: epoch: 0 batch_idx: 270 ce_loss: 28.4539 accuracy: 0.1177 entropy: 6.4143 n_entropy: 0.0740 loading_time: 0.0017 batch_time: 0.1773\n",
            "INFO:general_logger:Valid: epoch: 0 ce_loss: 51.9479 accuracy: 0.1226 entropy: nan n_entropy: nan loading_time: 0.0096 batch_time: 0.3512\n",
            "WARNING:root:NaN or Inf found in input tensor.\n",
            "INFO:general_logger:Train: epoch: 1 batch_idx: 90 ce_loss: 48.9405 accuracy: 0.1094 entropy: 6.0229 n_entropy: 0.0556 loading_time: 0.0029 batch_time: 0.2027\n",
            "INFO:general_logger:Valid: epoch: 1 ce_loss: 46.4718 accuracy: 0.1348 entropy: nan n_entropy: nan loading_time: 0.0091 batch_time: 0.3490\n",
            "WARNING:root:NaN or Inf found in input tensor.\n",
            "INFO:general_logger:Train: epoch: 1 batch_idx: 180 ce_loss: 46.9502 accuracy: 0.1128 entropy: 5.0389 n_entropy: 0.0500 loading_time: 0.0020 batch_time: 0.1809\n",
            "INFO:general_logger:Valid: epoch: 1 ce_loss: 46.5658 accuracy: 0.1155 entropy: nan n_entropy: nan loading_time: 0.0085 batch_time: 0.3478\n",
            "WARNING:root:NaN or Inf found in input tensor.\n",
            "INFO:general_logger:Train: epoch: 1 batch_idx: 270 ce_loss: 40.9921 accuracy: 0.1100 entropy: 5.0491 n_entropy: 0.0500 loading_time: 0.0017 batch_time: 0.1833\n",
            "INFO:general_logger:Valid: epoch: 1 ce_loss: 23.1946 accuracy: 0.1165 entropy: nan n_entropy: nan loading_time: 0.0091 batch_time: 0.3544\n",
            "WARNING:root:NaN or Inf found in input tensor.\n",
            "INFO:general_logger:Train: epoch: 2 batch_idx: 90 ce_loss: 33.3203 accuracy: 0.1139 entropy: 5.2510 n_entropy: 0.0532 loading_time: 0.0025 batch_time: 0.1699\n",
            "INFO:general_logger:Valid: epoch: 2 ce_loss: 22.6063 accuracy: 0.0902 entropy: nan n_entropy: nan loading_time: 0.0092 batch_time: 0.3480\n",
            "WARNING:root:NaN or Inf found in input tensor.\n",
            "INFO:general_logger:Train: epoch: 2 batch_idx: 180 ce_loss: 32.9721 accuracy: 0.1228 entropy: 6.1281 n_entropy: 0.0580 loading_time: 0.0020 batch_time: 0.1862\n",
            "INFO:general_logger:Valid: epoch: 2 ce_loss: 26.7239 accuracy: 0.1185 entropy: nan n_entropy: nan loading_time: 0.0095 batch_time: 0.3492\n",
            "WARNING:root:NaN or Inf found in input tensor.\n",
            "INFO:general_logger:Train: epoch: 2 batch_idx: 270 ce_loss: 32.9787 accuracy: 0.1191 entropy: 5.0944 n_entropy: 0.0506 loading_time: 0.0017 batch_time: 0.1819\n",
            "INFO:general_logger:Valid: epoch: 2 ce_loss: 39.9000 accuracy: 0.1084 entropy: nan n_entropy: nan loading_time: 0.0093 batch_time: 0.3495\n",
            "WARNING:root:NaN or Inf found in input tensor.\n",
            "INFO:general_logger:Train: epoch: 3 batch_idx: 90 ce_loss: 32.2766 accuracy: 0.1200 entropy: 4.5158 n_entropy: 0.0487 loading_time: 0.0028 batch_time: 0.1881\n",
            "INFO:general_logger:Valid: epoch: 3 ce_loss: 32.6977 accuracy: 0.1114 entropy: nan n_entropy: nan loading_time: 0.0091 batch_time: 0.3492\n",
            "WARNING:root:NaN or Inf found in input tensor.\n",
            "INFO:general_logger:learning rate is reduced by factor 0.5!\n",
            "INFO:general_logger:learning rate is reduced by factor 0.5!\n",
            "INFO:general_logger:Train: epoch: 3 batch_idx: 180 ce_loss: 27.5842 accuracy: 0.1279 entropy: 5.0367 n_entropy: 0.0498 loading_time: 0.0020 batch_time: 0.1764\n",
            "INFO:general_logger:Valid: epoch: 3 ce_loss: 18.1116 accuracy: 0.1145 entropy: nan n_entropy: nan loading_time: 0.0091 batch_time: 0.3470\n",
            "WARNING:root:NaN or Inf found in input tensor.\n",
            "INFO:general_logger:Train: epoch: 3 batch_idx: 270 ce_loss: 25.2099 accuracy: 0.1297 entropy: 4.4740 n_entropy: 0.0494 loading_time: 0.0016 batch_time: 0.1647\n",
            "INFO:general_logger:Valid: epoch: 3 ce_loss: 30.7063 accuracy: 0.1905 entropy: nan n_entropy: nan loading_time: 0.0087 batch_time: 0.3482\n",
            "WARNING:root:NaN or Inf found in input tensor.\n",
            "INFO:general_logger:saving model...\n",
            "INFO:general_logger:Train: epoch: 4 batch_idx: 90 ce_loss: 24.2581 accuracy: 0.1330 entropy: 4.8538 n_entropy: 0.0519 loading_time: 0.0029 batch_time: 0.1912\n",
            "INFO:general_logger:Valid: epoch: 4 ce_loss: 19.1359 accuracy: 0.1003 entropy: nan n_entropy: nan loading_time: 0.0087 batch_time: 0.3512\n",
            "WARNING:root:NaN or Inf found in input tensor.\n",
            "INFO:general_logger:Train: epoch: 4 batch_idx: 180 ce_loss: 21.7417 accuracy: 0.1257 entropy: 3.5984 n_entropy: 0.0449 loading_time: 0.0021 batch_time: 0.1723\n",
            "INFO:general_logger:Valid: epoch: 4 ce_loss: 20.4406 accuracy: 0.1064 entropy: nan n_entropy: nan loading_time: 0.0092 batch_time: 0.3475\n",
            "WARNING:root:NaN or Inf found in input tensor.\n",
            "INFO:general_logger:Train: epoch: 4 batch_idx: 270 ce_loss: 20.0157 accuracy: 0.1259 entropy: 4.2773 n_entropy: 0.0479 loading_time: 0.0017 batch_time: 0.1697\n",
            "INFO:general_logger:Valid: epoch: 4 ce_loss: 12.1386 accuracy: 0.0963 entropy: nan n_entropy: nan loading_time: 0.0090 batch_time: 0.3497\n",
            "WARNING:root:NaN or Inf found in input tensor.\n",
            "INFO:general_logger:Train: epoch: 5 batch_idx: 90 ce_loss: 17.5547 accuracy: 0.1311 entropy: 3.2519 n_entropy: 0.0452 loading_time: 0.0028 batch_time: 0.1449\n",
            "INFO:general_logger:Valid: epoch: 5 ce_loss: 14.6893 accuracy: 0.1013 entropy: nan n_entropy: nan loading_time: 0.0080 batch_time: 0.3491\n",
            "WARNING:root:NaN or Inf found in input tensor.\n",
            "INFO:general_logger:Train: epoch: 5 batch_idx: 180 ce_loss: 15.4734 accuracy: 0.1279 entropy: 4.5925 n_entropy: 0.0530 loading_time: 0.0018 batch_time: 0.1630\n",
            "INFO:general_logger:Valid: epoch: 5 ce_loss: 11.3884 accuracy: 0.1044 entropy: nan n_entropy: nan loading_time: 0.0095 batch_time: 0.3505\n",
            "WARNING:root:NaN or Inf found in input tensor.\n",
            "INFO:general_logger:Train: epoch: 5 batch_idx: 270 ce_loss: 14.2468 accuracy: 0.1243 entropy: 5.8071 n_entropy: 0.0598 loading_time: 0.0016 batch_time: 0.1737\n",
            "INFO:general_logger:Valid: epoch: 5 ce_loss: 10.6959 accuracy: 0.1165 entropy: 12.9148 n_entropy: 0.0587 loading_time: 0.0087 batch_time: 0.3500\n",
            "INFO:general_logger:Train: epoch: 6 batch_idx: 90 ce_loss: 13.3697 accuracy: 0.1097 entropy: 7.3651 n_entropy: 0.0616 loading_time: 0.0030 batch_time: 0.1975\n",
            "INFO:general_logger:Valid: epoch: 6 ce_loss: 9.4413 accuracy: 0.1033 entropy: nan n_entropy: nan loading_time: 0.0089 batch_time: 0.3502\n",
            "WARNING:root:NaN or Inf found in input tensor.\n",
            "INFO:general_logger:Train: epoch: 6 batch_idx: 180 ce_loss: 11.1999 accuracy: 0.1161 entropy: 6.3462 n_entropy: 0.0615 loading_time: 0.0020 batch_time: 0.1832\n",
            "INFO:general_logger:Valid: epoch: 6 ce_loss: 10.6062 accuracy: 0.0993 entropy: nan n_entropy: nan loading_time: 0.0087 batch_time: 0.3499\n",
            "WARNING:root:NaN or Inf found in input tensor.\n",
            "INFO:general_logger:Train: epoch: 6 batch_idx: 270 ce_loss: 12.2633 accuracy: 0.1150 entropy: 5.9808 n_entropy: 0.0615 loading_time: 0.0017 batch_time: 0.1782\n",
            "INFO:general_logger:Valid: epoch: 6 ce_loss: 15.9374 accuracy: 0.1084 entropy: nan n_entropy: nan loading_time: 0.0092 batch_time: 0.3507\n",
            "WARNING:root:NaN or Inf found in input tensor.\n",
            "INFO:general_logger:learning rate is reduced by factor 0.5!\n",
            "INFO:general_logger:learning rate is reduced by factor 0.5!\n",
            "INFO:general_logger:Train: epoch: 7 batch_idx: 90 ce_loss: 10.3808 accuracy: 0.1278 entropy: 6.3317 n_entropy: 0.0597 loading_time: 0.0028 batch_time: 0.1800\n",
            "INFO:general_logger:Valid: epoch: 7 ce_loss: 6.1658 accuracy: 0.1621 entropy: nan n_entropy: nan loading_time: 0.0092 batch_time: 0.3535\n",
            "WARNING:root:NaN or Inf found in input tensor.\n",
            "INFO:general_logger:Train: epoch: 7 batch_idx: 180 ce_loss: 8.8482 accuracy: 0.1339 entropy: 5.2223 n_entropy: 0.0588 loading_time: 0.0021 batch_time: 0.1626\n",
            "INFO:general_logger:Valid: epoch: 7 ce_loss: 6.9791 accuracy: 0.1266 entropy: nan n_entropy: nan loading_time: 0.0086 batch_time: 0.3539\n",
            "WARNING:root:NaN or Inf found in input tensor.\n",
            "INFO:general_logger:Train: epoch: 7 batch_idx: 270 ce_loss: 8.0238 accuracy: 0.1362 entropy: 5.6527 n_entropy: 0.0605 loading_time: 0.0017 batch_time: 0.1687\n",
            "INFO:general_logger:Valid: epoch: 7 ce_loss: 5.4933 accuracy: 0.1570 entropy: nan n_entropy: nan loading_time: 0.0086 batch_time: 0.3500\n",
            "WARNING:root:NaN or Inf found in input tensor.\n",
            "INFO:general_logger:Train: epoch: 8 batch_idx: 90 ce_loss: 5.9244 accuracy: 0.1498 entropy: 5.7803 n_entropy: 0.0556 loading_time: 0.0029 batch_time: 0.1731\n",
            "INFO:general_logger:Valid: epoch: 8 ce_loss: 5.9531 accuracy: 0.1560 entropy: nan n_entropy: nan loading_time: 0.0097 batch_time: 0.3534\n",
            "WARNING:root:NaN or Inf found in input tensor.\n",
            "INFO:general_logger:Train: epoch: 8 batch_idx: 180 ce_loss: 6.3078 accuracy: 0.1464 entropy: 5.8407 n_entropy: 0.0589 loading_time: 0.0021 batch_time: 0.1677\n",
            "INFO:general_logger:Valid: epoch: 8 ce_loss: 6.8898 accuracy: 0.1236 entropy: nan n_entropy: nan loading_time: 0.0091 batch_time: 0.3512\n",
            "WARNING:root:NaN or Inf found in input tensor.\n",
            "INFO:general_logger:Train: epoch: 8 batch_idx: 270 ce_loss: 6.2911 accuracy: 0.1425 entropy: 6.1508 n_entropy: 0.0614 loading_time: 0.0018 batch_time: 0.1743\n",
            "INFO:general_logger:Valid: epoch: 8 ce_loss: 5.0118 accuracy: 0.1641 entropy: nan n_entropy: nan loading_time: 0.0091 batch_time: 0.3504\n",
            "WARNING:root:NaN or Inf found in input tensor.\n",
            "INFO:general_logger:Train: epoch: 9 batch_idx: 90 ce_loss: 5.8456 accuracy: 0.1590 entropy: 5.2316 n_entropy: 0.0460 loading_time: 0.0029 batch_time: 0.1947\n",
            "INFO:general_logger:Valid: epoch: 9 ce_loss: 7.1243 accuracy: 0.1530 entropy: nan n_entropy: nan loading_time: 0.0095 batch_time: 0.3512\n",
            "WARNING:root:NaN or Inf found in input tensor.\n",
            "INFO:general_logger:Train: epoch: 9 batch_idx: 180 ce_loss: 5.9627 accuracy: 0.1653 entropy: 5.2714 n_entropy: 0.0527 loading_time: 0.0020 batch_time: 0.1791\n",
            "INFO:general_logger:Valid: epoch: 9 ce_loss: 5.5396 accuracy: 0.1469 entropy: nan n_entropy: nan loading_time: 0.0091 batch_time: 0.3512\n",
            "WARNING:root:NaN or Inf found in input tensor.\n",
            "INFO:general_logger:Train: epoch: 9 batch_idx: 270 ce_loss: 5.6526 accuracy: 0.1580 entropy: 5.1706 n_entropy: 0.0576 loading_time: 0.0018 batch_time: 0.1728\n",
            "INFO:general_logger:Valid: epoch: 9 ce_loss: 5.4323 accuracy: 0.1155 entropy: nan n_entropy: nan loading_time: 0.0084 batch_time: 0.3503\n",
            "WARNING:root:NaN or Inf found in input tensor.\n",
            "INFO:general_logger:learning rate is reduced by factor 0.5!\n",
            "INFO:general_logger:learning rate is reduced by factor 0.5!\n",
            "INFO:general_logger:Train: epoch: 10 batch_idx: 90 ce_loss: 3.6969 accuracy: 0.1424 entropy: 4.7520 n_entropy: 0.0559 loading_time: 0.0026 batch_time: 0.1823\n",
            "INFO:general_logger:Valid: epoch: 10 ce_loss: 3.3345 accuracy: 0.1388 entropy: nan n_entropy: nan loading_time: 0.0088 batch_time: 0.3508\n",
            "WARNING:root:NaN or Inf found in input tensor.\n",
            "INFO:general_logger:Train: epoch: 10 batch_idx: 180 ce_loss: 3.4907 accuracy: 0.1397 entropy: 5.4676 n_entropy: 0.0571 loading_time: 0.0019 batch_time: 0.1821\n",
            "INFO:general_logger:Valid: epoch: 10 ce_loss: 3.3189 accuracy: 0.1439 entropy: nan n_entropy: nan loading_time: 0.0095 batch_time: 0.3543\n",
            "WARNING:root:NaN or Inf found in input tensor.\n",
            "INFO:general_logger:Train: epoch: 10 batch_idx: 270 ce_loss: 3.4512 accuracy: 0.1428 entropy: 6.1329 n_entropy: 0.0571 loading_time: 0.0017 batch_time: 0.1950\n",
            "INFO:general_logger:Valid: epoch: 10 ce_loss: 2.8503 accuracy: 0.1510 entropy: nan n_entropy: nan loading_time: 0.0085 batch_time: 0.3513\n",
            "WARNING:root:NaN or Inf found in input tensor.\n",
            "data/listops/reinforce/models/exp_adam_1/m-8402692092386421723/3-269.mdl\n",
            "INFO:general_logger:Test: ce_loss: 30.9223 accuracy: 0.1799 entropy: nan n_entropy: nan loading_time: 0.0009 batch_time: 0.1867\n",
            "INFO:general_logger:done\n"
          ],
          "name": "stdout"
        }
      ]
    },
    {
      "cell_type": "code",
      "metadata": {
        "id": "hBx-EfhALofI",
        "colab_type": "code",
        "outputId": "05014dfe-9d87-47f0-9088-3df62d543ba4",
        "colab": {
          "base_uri": "https://localhost:8080/",
          "height": 1000
        }
      },
      "source": [
        "!python -m listops.reinforce.train_reinforce_model --optimizer adam --max-epoch 50 --model-dir data/listops/reinforce/models/exp_adam_3 --logs-path data/listops/reinforce/logs/exp_adam_3 --tensorboard-path data/listops/reinforce/tensorboard/exp_adam_3"
      ],
      "execution_count": 0,
      "outputs": [
        {
          "output_type": "stream",
          "text": [
            "data/listops/reinforce/logs/exp_adam_3/l8158878014111669710.log\n",
            "file path: data/listops/interim/train.tsv\n",
            "number of skipped sentences due to length > 130: 1578\n",
            "number of skipped sentences due to length < 2: 0\n",
            "file path: data/listops/interim/valid.tsv\n",
            "number of skipped sentences due to length > 300: 13\n",
            "number of skipped sentences due to length < 2: 0\n",
            "file path: data/listops/interim/test.tsv\n",
            "number of skipped sentences due to length > inf: 0\n",
            "number of skipped sentences due to length < 2: 1\n",
            "WARNING:root:NaN or Inf found in input tensor.\n",
            "INFO:general_logger:saving model...\n",
            "INFO:general_logger:Train: epoch: 0 batch_idx: 180 ce_loss: 25.8121 accuracy: 0.1171 entropy: 6.4380 n_entropy: 0.0751 loading_time: 0.0020 batch_time: 0.1863\n",
            "INFO:general_logger:Valid: epoch: 0 ce_loss: 38.0609 accuracy: 0.1023 entropy: nan n_entropy: nan loading_time: 0.0096 batch_time: 0.3524\n",
            "WARNING:root:NaN or Inf found in input tensor.\n",
            "INFO:general_logger:Train: epoch: 0 batch_idx: 270 ce_loss: 28.6301 accuracy: 0.1181 entropy: 5.8571 n_entropy: 0.0668 loading_time: 0.0017 batch_time: 0.1818\n",
            "INFO:general_logger:Valid: epoch: 0 ce_loss: 26.2490 accuracy: 0.1064 entropy: nan n_entropy: nan loading_time: 0.0084 batch_time: 0.3571\n",
            "WARNING:root:NaN or Inf found in input tensor.\n",
            "INFO:general_logger:Train: epoch: 1 batch_idx: 90 ce_loss: 28.4672 accuracy: 0.1175 entropy: 3.2793 n_entropy: 0.0486 loading_time: 0.0025 batch_time: 0.1626\n",
            "INFO:general_logger:Valid: epoch: 1 ce_loss: 50.6389 accuracy: 0.1074 entropy: nan n_entropy: nan loading_time: 0.0085 batch_time: 0.3537\n",
            "WARNING:root:NaN or Inf found in input tensor.\n",
            "INFO:general_logger:Train: epoch: 1 batch_idx: 180 ce_loss: 32.6693 accuracy: 0.1187 entropy: 4.2612 n_entropy: 0.0464 loading_time: 0.0018 batch_time: 0.1742\n",
            "INFO:general_logger:Valid: epoch: 1 ce_loss: 51.5146 accuracy: 0.1520 entropy: nan n_entropy: nan loading_time: 0.0089 batch_time: 0.3551\n",
            "WARNING:root:NaN or Inf found in input tensor.\n",
            "INFO:general_logger:saving model...\n",
            "INFO:general_logger:Train: epoch: 1 batch_idx: 270 ce_loss: 34.1786 accuracy: 0.1193 entropy: 4.7775 n_entropy: 0.0471 loading_time: 0.0015 batch_time: 0.1897\n",
            "INFO:general_logger:Valid: epoch: 1 ce_loss: 31.3942 accuracy: 0.0892 entropy: nan n_entropy: nan loading_time: 0.0108 batch_time: 0.3637\n",
            "WARNING:root:NaN or Inf found in input tensor.\n",
            "INFO:general_logger:Train: epoch: 2 batch_idx: 90 ce_loss: 35.5621 accuracy: 0.1101 entropy: 8.2428 n_entropy: 0.0556 loading_time: 0.0028 batch_time: 0.2331\n",
            "INFO:general_logger:Valid: epoch: 2 ce_loss: 47.2443 accuracy: 0.1084 entropy: nan n_entropy: nan loading_time: 0.0093 batch_time: 0.3564\n",
            "WARNING:root:NaN or Inf found in input tensor.\n",
            "INFO:general_logger:Train: epoch: 2 batch_idx: 180 ce_loss: 31.9058 accuracy: 0.1118 entropy: 7.4541 n_entropy: 0.0601 loading_time: 0.0021 batch_time: 0.2144\n",
            "INFO:general_logger:Valid: epoch: 2 ce_loss: 20.7612 accuracy: 0.0983 entropy: nan n_entropy: nan loading_time: 0.0089 batch_time: 0.3552\n",
            "WARNING:root:NaN or Inf found in input tensor.\n",
            "INFO:general_logger:Train: epoch: 2 batch_idx: 270 ce_loss: 30.1129 accuracy: 0.1160 entropy: 6.3962 n_entropy: 0.0573 loading_time: 0.0017 batch_time: 0.1996\n",
            "INFO:general_logger:Valid: epoch: 2 ce_loss: 24.4761 accuracy: 0.1145 entropy: nan n_entropy: nan loading_time: 0.0088 batch_time: 0.3625\n",
            "WARNING:root:NaN or Inf found in input tensor.\n",
            "INFO:general_logger:Train: epoch: 3 batch_idx: 90 ce_loss: 31.2037 accuracy: 0.1153 entropy: 3.6414 n_entropy: 0.0481 loading_time: 0.0027 batch_time: 0.1662\n",
            "INFO:general_logger:Valid: epoch: 3 ce_loss: 26.0475 accuracy: 0.1348 entropy: nan n_entropy: nan loading_time: 0.0090 batch_time: 0.3643\n",
            "WARNING:root:NaN or Inf found in input tensor.\n",
            "INFO:general_logger:Train: epoch: 3 batch_idx: 180 ce_loss: 32.3876 accuracy: 0.1238 entropy: 5.0487 n_entropy: 0.0531 loading_time: 0.0020 batch_time: 0.1803\n",
            "INFO:general_logger:Valid: epoch: 3 ce_loss: 22.2948 accuracy: 0.1337 entropy: nan n_entropy: nan loading_time: 0.0094 batch_time: 0.3577\n",
            "WARNING:root:NaN or Inf found in input tensor.\n",
            "INFO:general_logger:Train: epoch: 3 batch_idx: 270 ce_loss: 35.7271 accuracy: 0.1245 entropy: 4.5215 n_entropy: 0.0470 loading_time: 0.0016 batch_time: 0.1767\n",
            "INFO:general_logger:Valid: epoch: 3 ce_loss: 70.6588 accuracy: 0.1023 entropy: nan n_entropy: nan loading_time: 0.0096 batch_time: 0.3624\n",
            "WARNING:root:NaN or Inf found in input tensor.\n",
            "INFO:general_logger:Train: epoch: 4 batch_idx: 90 ce_loss: 48.3493 accuracy: 0.1149 entropy: 3.8766 n_entropy: 0.0348 loading_time: 0.0026 batch_time: 0.1920\n",
            "INFO:general_logger:Valid: epoch: 4 ce_loss: 24.9076 accuracy: 0.1104 entropy: nan n_entropy: nan loading_time: 0.0091 batch_time: 0.3580\n",
            "WARNING:root:NaN or Inf found in input tensor.\n",
            "INFO:general_logger:Train: epoch: 4 batch_idx: 180 ce_loss: 42.6341 accuracy: 0.1150 entropy: 5.9442 n_entropy: 0.0456 loading_time: 0.0019 batch_time: 0.2115\n",
            "INFO:general_logger:Valid: epoch: 4 ce_loss: 28.5102 accuracy: 0.1003 entropy: nan n_entropy: nan loading_time: 0.0097 batch_time: 0.3587\n",
            "WARNING:root:NaN or Inf found in input tensor.\n",
            "INFO:general_logger:learning rate is reduced by factor 0.5!\n",
            "INFO:general_logger:learning rate is reduced by factor 0.5!\n",
            "INFO:general_logger:Train: epoch: 4 batch_idx: 270 ce_loss: 36.8190 accuracy: 0.1133 entropy: 6.5781 n_entropy: 0.0506 loading_time: 0.0017 batch_time: 0.2166\n",
            "INFO:general_logger:Valid: epoch: 4 ce_loss: 18.1174 accuracy: 0.1155 entropy: nan n_entropy: nan loading_time: 0.0092 batch_time: 0.3602\n",
            "WARNING:root:NaN or Inf found in input tensor.\n",
            "INFO:general_logger:Train: epoch: 5 batch_idx: 90 ce_loss: 16.9845 accuracy: 0.1196 entropy: 5.7550 n_entropy: 0.0675 loading_time: 0.0032 batch_time: 0.1906\n",
            "INFO:general_logger:Valid: epoch: 5 ce_loss: 17.1075 accuracy: 0.1418 entropy: nan n_entropy: nan loading_time: 0.0103 batch_time: 0.3691\n",
            "WARNING:root:NaN or Inf found in input tensor.\n",
            "INFO:general_logger:Train: epoch: 5 batch_idx: 180 ce_loss: 19.2637 accuracy: 0.1363 entropy: 5.4124 n_entropy: 0.0583 loading_time: 0.0023 batch_time: 0.2045\n",
            "INFO:general_logger:Valid: epoch: 5 ce_loss: 19.1615 accuracy: 0.1287 entropy: nan n_entropy: nan loading_time: 0.0089 batch_time: 0.3639\n",
            "WARNING:root:NaN or Inf found in input tensor.\n",
            "INFO:general_logger:Train: epoch: 5 batch_idx: 270 ce_loss: 20.0111 accuracy: 0.1366 entropy: 5.1377 n_entropy: 0.0583 loading_time: 0.0020 batch_time: 0.1930\n",
            "INFO:general_logger:Valid: epoch: 5 ce_loss: 18.1625 accuracy: 0.1317 entropy: nan n_entropy: nan loading_time: 0.0095 batch_time: 0.3628\n",
            "WARNING:root:NaN or Inf found in input tensor.\n",
            "INFO:general_logger:Train: epoch: 6 batch_idx: 90 ce_loss: 17.0718 accuracy: 0.1354 entropy: 5.9830 n_entropy: 0.0570 loading_time: 0.0028 batch_time: 0.2072\n",
            "INFO:general_logger:Valid: epoch: 6 ce_loss: 16.5899 accuracy: 0.1256 entropy: nan n_entropy: nan loading_time: 0.0097 batch_time: 0.3600\n",
            "WARNING:root:NaN or Inf found in input tensor.\n",
            "INFO:general_logger:Train: epoch: 6 batch_idx: 180 ce_loss: 16.7379 accuracy: 0.1342 entropy: 5.0751 n_entropy: 0.0514 loading_time: 0.0017 batch_time: 0.1931\n",
            "INFO:general_logger:Valid: epoch: 6 ce_loss: 14.2335 accuracy: 0.1135 entropy: nan n_entropy: nan loading_time: 0.0103 batch_time: 0.3638\n",
            "WARNING:root:NaN or Inf found in input tensor.\n",
            "INFO:general_logger:Train: epoch: 6 batch_idx: 270 ce_loss: 16.6569 accuracy: 0.1307 entropy: 5.6879 n_entropy: 0.0541 loading_time: 0.0015 batch_time: 0.2027\n",
            "INFO:general_logger:Valid: epoch: 6 ce_loss: 14.1007 accuracy: 0.1135 entropy: nan n_entropy: nan loading_time: 0.0092 batch_time: 0.3590\n",
            "WARNING:root:NaN or Inf found in input tensor.\n",
            "INFO:general_logger:Train: epoch: 7 batch_idx: 90 ce_loss: 14.0801 accuracy: 0.1226 entropy: 6.1989 n_entropy: 0.0657 loading_time: 0.0027 batch_time: 0.1890\n",
            "INFO:general_logger:Valid: epoch: 7 ce_loss: 11.5149 accuracy: 0.1256 entropy: nan n_entropy: nan loading_time: 0.0090 batch_time: 0.3571\n",
            "WARNING:root:NaN or Inf found in input tensor.\n",
            "INFO:general_logger:Train: epoch: 7 batch_idx: 180 ce_loss: 13.4095 accuracy: 0.1237 entropy: 4.7299 n_entropy: 0.0609 loading_time: 0.0020 batch_time: 0.1670\n",
            "INFO:general_logger:Valid: epoch: 7 ce_loss: 10.6866 accuracy: 0.1358 entropy: 3.0929 n_entropy: 0.0307 loading_time: 0.0092 batch_time: 0.3556\n",
            "INFO:general_logger:learning rate is reduced by factor 0.5!\n",
            "INFO:general_logger:learning rate is reduced by factor 0.5!\n",
            "INFO:general_logger:Train: epoch: 7 batch_idx: 270 ce_loss: 11.7979 accuracy: 0.1212 entropy: 4.3234 n_entropy: 0.0538 loading_time: 0.0019 batch_time: 0.1717\n",
            "INFO:general_logger:Valid: epoch: 7 ce_loss: 6.1637 accuracy: 0.0973 entropy: nan n_entropy: nan loading_time: 0.0086 batch_time: 0.3586\n",
            "WARNING:root:NaN or Inf found in input tensor.\n",
            "INFO:general_logger:Train: epoch: 8 batch_idx: 90 ce_loss: 5.8174 accuracy: 0.1260 entropy: 2.2947 n_entropy: 0.0255 loading_time: 0.0027 batch_time: 0.1845\n",
            "INFO:general_logger:Valid: epoch: 8 ce_loss: 4.5236 accuracy: 0.1297 entropy: 10.7320 n_entropy: 0.0525 loading_time: 0.0088 batch_time: 0.3616\n",
            "INFO:general_logger:Train: epoch: 8 batch_idx: 180 ce_loss: 5.3394 accuracy: 0.1334 entropy: 6.5184 n_entropy: 0.0543 loading_time: 0.0021 batch_time: 0.2010\n",
            "INFO:general_logger:Valid: epoch: 8 ce_loss: 4.6244 accuracy: 0.1530 entropy: 31.2249 n_entropy: 0.1191 loading_time: 0.0087 batch_time: 0.3546\n",
            "INFO:general_logger:saving model...\n",
            "INFO:general_logger:Train: epoch: 8 batch_idx: 270 ce_loss: 5.0283 accuracy: 0.1379 entropy: 7.3314 n_entropy: 0.0594 loading_time: 0.0017 batch_time: 0.2029\n",
            "INFO:general_logger:Valid: epoch: 8 ce_loss: 3.8239 accuracy: 0.1895 entropy: 13.7088 n_entropy: 0.0688 loading_time: 0.0088 batch_time: 0.3627\n",
            "INFO:general_logger:saving model...\n",
            "INFO:general_logger:Train: epoch: 9 batch_idx: 90 ce_loss: 5.4617 accuracy: 0.1444 entropy: 6.6606 n_entropy: 0.0718 loading_time: 0.0030 batch_time: 0.1771\n",
            "INFO:general_logger:Valid: epoch: 9 ce_loss: 5.3474 accuracy: 0.1550 entropy: 17.2014 n_entropy: 0.0773 loading_time: 0.0097 batch_time: 0.3541\n",
            "INFO:general_logger:Train: epoch: 9 batch_idx: 180 ce_loss: 5.6235 accuracy: 0.1432 entropy: 5.7447 n_entropy: 0.0615 loading_time: 0.0020 batch_time: 0.1841\n",
            "INFO:general_logger:Valid: epoch: 9 ce_loss: 4.6717 accuracy: 0.1499 entropy: nan n_entropy: nan loading_time: 0.0095 batch_time: 0.3571\n",
            "WARNING:root:NaN or Inf found in input tensor.\n",
            "INFO:general_logger:Train: epoch: 9 batch_idx: 270 ce_loss: 5.3068 accuracy: 0.1493 entropy: 4.4362 n_entropy: 0.0503 loading_time: 0.0018 batch_time: 0.1860\n",
            "INFO:general_logger:Valid: epoch: 9 ce_loss: 5.0623 accuracy: 0.1469 entropy: nan n_entropy: nan loading_time: 0.0093 batch_time: 0.3632\n",
            "WARNING:root:NaN or Inf found in input tensor.\n",
            "INFO:general_logger:Train: epoch: 10 batch_idx: 90 ce_loss: 6.1494 accuracy: 0.1385 entropy: 7.8495 n_entropy: 0.0718 loading_time: 0.0030 batch_time: 0.2068\n",
            "INFO:general_logger:Valid: epoch: 10 ce_loss: 5.7819 accuracy: 0.1044 entropy: nan n_entropy: nan loading_time: 0.0097 batch_time: 0.3570\n",
            "WARNING:root:NaN or Inf found in input tensor.\n",
            "INFO:general_logger:Train: epoch: 10 batch_idx: 180 ce_loss: 5.7644 accuracy: 0.1293 entropy: 6.7532 n_entropy: 0.0676 loading_time: 0.0021 batch_time: 0.1862\n",
            "INFO:general_logger:Valid: epoch: 10 ce_loss: 4.3062 accuracy: 0.1114 entropy: nan n_entropy: nan loading_time: 0.0091 batch_time: 0.3582\n",
            "WARNING:root:NaN or Inf found in input tensor.\n",
            "INFO:general_logger:Train: epoch: 10 batch_idx: 270 ce_loss: 5.0819 accuracy: 0.1293 entropy: 5.8590 n_entropy: 0.0599 loading_time: 0.0017 batch_time: 0.1840\n",
            "INFO:general_logger:Valid: epoch: 10 ce_loss: 3.7249 accuracy: 0.1307 entropy: nan n_entropy: nan loading_time: 0.0094 batch_time: 0.3542\n",
            "WARNING:root:NaN or Inf found in input tensor.\n",
            "INFO:general_logger:Train: epoch: 11 batch_idx: 90 ce_loss: 3.8094 accuracy: 0.1446 entropy: 2.4433 n_entropy: 0.0366 loading_time: 0.0026 batch_time: 0.1508\n",
            "INFO:general_logger:Valid: epoch: 11 ce_loss: 3.4768 accuracy: 0.1185 entropy: nan n_entropy: nan loading_time: 0.0093 batch_time: 0.3608\n",
            "WARNING:root:NaN or Inf found in input tensor.\n",
            "INFO:general_logger:Train: epoch: 11 batch_idx: 180 ce_loss: 3.7887 accuracy: 0.1387 entropy: 4.3936 n_entropy: 0.0500 loading_time: 0.0018 batch_time: 0.1727\n",
            "INFO:general_logger:Valid: epoch: 11 ce_loss: 3.6247 accuracy: 0.1327 entropy: nan n_entropy: nan loading_time: 0.0096 batch_time: 0.3621\n",
            "WARNING:root:NaN or Inf found in input tensor.\n",
            "INFO:general_logger:Train: epoch: 11 batch_idx: 270 ce_loss: 3.7875 accuracy: 0.1411 entropy: 4.1036 n_entropy: 0.0512 loading_time: 0.0016 batch_time: 0.1640\n",
            "INFO:general_logger:Valid: epoch: 11 ce_loss: 3.7188 accuracy: 0.1510 entropy: nan n_entropy: nan loading_time: 0.0088 batch_time: 0.3537\n",
            "WARNING:root:NaN or Inf found in input tensor.\n",
            "INFO:general_logger:learning rate is reduced by factor 0.5!\n",
            "INFO:general_logger:learning rate is reduced by factor 0.5!\n",
            "INFO:general_logger:Train: epoch: 12 batch_idx: 90 ce_loss: 2.9560 accuracy: 0.1370 entropy: 5.2375 n_entropy: 0.0675 loading_time: 0.0024 batch_time: 0.1760\n",
            "INFO:general_logger:Valid: epoch: 12 ce_loss: 2.6117 accuracy: 0.1824 entropy: nan n_entropy: nan loading_time: 0.0084 batch_time: 0.3564\n",
            "WARNING:root:NaN or Inf found in input tensor.\n",
            "INFO:general_logger:Train: epoch: 12 batch_idx: 180 ce_loss: 2.7984 accuracy: 0.1551 entropy: 6.1845 n_entropy: 0.0708 loading_time: 0.0019 batch_time: 0.1869\n",
            "INFO:general_logger:Valid: epoch: 12 ce_loss: 2.4065 accuracy: 0.2026 entropy: nan n_entropy: nan loading_time: 0.0097 batch_time: 0.3551\n",
            "WARNING:root:NaN or Inf found in input tensor.\n",
            "INFO:general_logger:saving model...\n",
            "INFO:general_logger:Train: epoch: 12 batch_idx: 270 ce_loss: 2.7249 accuracy: 0.1653 entropy: 5.2202 n_entropy: 0.0669 loading_time: 0.0016 batch_time: 0.1705\n",
            "INFO:general_logger:Valid: epoch: 12 ce_loss: 2.4546 accuracy: 0.1621 entropy: 11.9991 n_entropy: 0.0673 loading_time: 0.0095 batch_time: 0.3535\n",
            "INFO:general_logger:Train: epoch: 13 batch_idx: 90 ce_loss: 2.5734 accuracy: 0.1710 entropy: 8.4413 n_entropy: 0.1038 loading_time: 0.0028 batch_time: 0.1702\n",
            "INFO:general_logger:Valid: epoch: 13 ce_loss: 2.4021 accuracy: 0.1712 entropy: 21.7607 n_entropy: 0.1216 loading_time: 0.0086 batch_time: 0.3494\n",
            "INFO:general_logger:Train: epoch: 13 batch_idx: 180 ce_loss: 2.5866 accuracy: 0.1754 entropy: 8.0419 n_entropy: 0.0886 loading_time: 0.0020 batch_time: 0.1766\n",
            "INFO:general_logger:Valid: epoch: 13 ce_loss: 2.6281 accuracy: 0.1489 entropy: nan n_entropy: nan loading_time: 0.0094 batch_time: 0.3603\n",
            "WARNING:root:NaN or Inf found in input tensor.\n",
            "INFO:general_logger:Train: epoch: 13 batch_idx: 270 ce_loss: 2.5816 accuracy: 0.1816 entropy: 7.4382 n_entropy: 0.0822 loading_time: 0.0017 batch_time: 0.1776\n",
            "INFO:general_logger:Valid: epoch: 13 ce_loss: 2.5155 accuracy: 0.1722 entropy: nan n_entropy: nan loading_time: 0.0098 batch_time: 0.3627\n",
            "WARNING:root:NaN or Inf found in input tensor.\n",
            "INFO:general_logger:Train: epoch: 14 batch_idx: 90 ce_loss: 2.4499 accuracy: 0.1873 entropy: 13.3972 n_entropy: 0.1197 loading_time: 0.0031 batch_time: 0.2080\n",
            "INFO:general_logger:Valid: epoch: 14 ce_loss: 2.4203 accuracy: 0.1651 entropy: 27.7867 n_entropy: 0.1419 loading_time: 0.0095 batch_time: 0.3574\n",
            "INFO:general_logger:Train: epoch: 14 batch_idx: 180 ce_loss: 2.4372 accuracy: 0.1793 entropy: 15.2644 n_entropy: 0.1306 loading_time: 0.0020 batch_time: 0.2096\n",
            "INFO:general_logger:Valid: epoch: 14 ce_loss: 2.4152 accuracy: 0.1246 entropy: 40.0310 n_entropy: 0.1820 loading_time: 0.0101 batch_time: 0.3597\n",
            "INFO:general_logger:Train: epoch: 14 batch_idx: 270 ce_loss: 2.4384 accuracy: 0.1798 entropy: 15.0461 n_entropy: 0.1284 loading_time: 0.0017 batch_time: 0.2053\n",
            "INFO:general_logger:Valid: epoch: 14 ce_loss: 2.5534 accuracy: 0.1662 entropy: 38.3398 n_entropy: 0.1832 loading_time: 0.0094 batch_time: 0.3619\n",
            "INFO:general_logger:Train: epoch: 15 batch_idx: 90 ce_loss: 2.3912 accuracy: 0.1828 entropy: 4.6026 n_entropy: 0.0751 loading_time: 0.0022 batch_time: 0.1661\n",
            "INFO:general_logger:Valid: epoch: 15 ce_loss: 2.2949 accuracy: 0.1793 entropy: nan n_entropy: nan loading_time: 0.0089 batch_time: 0.3548\n",
            "WARNING:root:NaN or Inf found in input tensor.\n",
            "INFO:general_logger:Train: epoch: 15 batch_idx: 180 ce_loss: 2.3974 accuracy: 0.1889 entropy: 4.2742 n_entropy: 0.0597 loading_time: 0.0016 batch_time: 0.1672\n",
            "INFO:general_logger:Valid: epoch: 15 ce_loss: 2.3128 accuracy: 0.2178 entropy: 14.7896 n_entropy: 0.0617 loading_time: 0.0086 batch_time: 0.3553\n",
            "INFO:general_logger:saving model...\n",
            "INFO:general_logger:Train: epoch: 15 batch_idx: 270 ce_loss: 2.3828 accuracy: 0.1933 entropy: 4.6264 n_entropy: 0.0566 loading_time: 0.0014 batch_time: 0.1725\n",
            "INFO:general_logger:Valid: epoch: 15 ce_loss: 2.2523 accuracy: 0.2310 entropy: nan n_entropy: nan loading_time: 0.0092 batch_time: 0.3554\n",
            "WARNING:root:NaN or Inf found in input tensor.\n",
            "INFO:general_logger:saving model...\n",
            "INFO:general_logger:Train: epoch: 16 batch_idx: 90 ce_loss: 2.3166 accuracy: 0.2170 entropy: 2.7974 n_entropy: 0.0376 loading_time: 0.0030 batch_time: 0.1829\n",
            "INFO:general_logger:Valid: epoch: 16 ce_loss: 2.1313 accuracy: 0.2239 entropy: 8.4593 n_entropy: 0.0529 loading_time: 0.0082 batch_time: 0.3598\n",
            "INFO:general_logger:Train: epoch: 16 batch_idx: 180 ce_loss: 2.2146 accuracy: 0.2251 entropy: 3.1863 n_entropy: 0.0475 loading_time: 0.0022 batch_time: 0.1660\n",
            "INFO:general_logger:Valid: epoch: 16 ce_loss: 2.0367 accuracy: 0.2472 entropy: nan n_entropy: nan loading_time: 0.0093 batch_time: 0.3563\n",
            "WARNING:root:NaN or Inf found in input tensor.\n",
            "INFO:general_logger:saving model...\n",
            "INFO:general_logger:Train: epoch: 16 batch_idx: 270 ce_loss: 2.1855 accuracy: 0.2249 entropy: 5.2221 n_entropy: 0.0608 loading_time: 0.0017 batch_time: 0.1737\n",
            "INFO:general_logger:Valid: epoch: 16 ce_loss: 2.2211 accuracy: 0.2097 entropy: 11.9919 n_entropy: 0.0777 loading_time: 0.0089 batch_time: 0.3546\n",
            "INFO:general_logger:Train: epoch: 17 batch_idx: 90 ce_loss: 2.2515 accuracy: 0.1944 entropy: 13.1707 n_entropy: 0.1169 loading_time: 0.0031 batch_time: 0.2095\n",
            "INFO:general_logger:Valid: epoch: 17 ce_loss: 2.0997 accuracy: 0.2290 entropy: nan n_entropy: nan loading_time: 0.0090 batch_time: 0.3650\n",
            "WARNING:root:NaN or Inf found in input tensor.\n",
            "INFO:general_logger:Train: epoch: 17 batch_idx: 180 ce_loss: 2.1583 accuracy: 0.2135 entropy: 13.0208 n_entropy: 0.1288 loading_time: 0.0021 batch_time: 0.1889\n",
            "INFO:general_logger:Valid: epoch: 17 ce_loss: 2.0072 accuracy: 0.2472 entropy: nan n_entropy: nan loading_time: 0.0089 batch_time: 0.3536\n",
            "WARNING:root:NaN or Inf found in input tensor.\n",
            "INFO:general_logger:Train: epoch: 17 batch_idx: 270 ce_loss: 2.1215 accuracy: 0.2209 entropy: 13.0920 n_entropy: 0.1348 loading_time: 0.0018 batch_time: 0.1838\n",
            "INFO:general_logger:Valid: epoch: 17 ce_loss: 2.0879 accuracy: 0.2128 entropy: 29.3596 n_entropy: 0.1517 loading_time: 0.0090 batch_time: 0.3587\n",
            "INFO:general_logger:Train: epoch: 18 batch_idx: 90 ce_loss: 2.0043 accuracy: 0.2410 entropy: 15.4128 n_entropy: 0.1694 loading_time: 0.0031 batch_time: 0.1844\n",
            "INFO:general_logger:Valid: epoch: 18 ce_loss: 2.1346 accuracy: 0.2188 entropy: nan n_entropy: nan loading_time: 0.0082 batch_time: 0.3548\n",
            "WARNING:root:NaN or Inf found in input tensor.\n",
            "INFO:general_logger:Train: epoch: 18 batch_idx: 180 ce_loss: 2.0173 accuracy: 0.2481 entropy: 16.5025 n_entropy: 0.1735 loading_time: 0.0022 batch_time: 0.1880\n",
            "INFO:general_logger:Valid: epoch: 18 ce_loss: 1.9633 accuracy: 0.2563 entropy: 26.6040 n_entropy: 0.1502 loading_time: 0.0082 batch_time: 0.3537\n",
            "INFO:general_logger:saving model...\n",
            "INFO:general_logger:Train: epoch: 18 batch_idx: 270 ce_loss: 1.9895 accuracy: 0.2565 entropy: 14.5588 n_entropy: 0.1610 loading_time: 0.0017 batch_time: 0.1816\n",
            "INFO:general_logger:Valid: epoch: 18 ce_loss: 1.9606 accuracy: 0.2867 entropy: 24.7255 n_entropy: 0.1421 loading_time: 0.0093 batch_time: 0.3503\n",
            "INFO:general_logger:saving model...\n",
            "INFO:general_logger:Train: epoch: 19 batch_idx: 90 ce_loss: 1.9086 accuracy: 0.2802 entropy: 17.9732 n_entropy: 0.1703 loading_time: 0.0030 batch_time: 0.2081\n",
            "INFO:general_logger:Valid: epoch: 19 ce_loss: 1.9306 accuracy: 0.2644 entropy: 43.5478 n_entropy: 0.2525 loading_time: 0.0091 batch_time: 0.3582\n",
            "INFO:general_logger:Train: epoch: 19 batch_idx: 180 ce_loss: 1.9102 accuracy: 0.2865 entropy: 18.7105 n_entropy: 0.1838 loading_time: 0.0022 batch_time: 0.1969\n",
            "INFO:general_logger:Valid: epoch: 19 ce_loss: 1.8894 accuracy: 0.3110 entropy: nan n_entropy: nan loading_time: 0.0102 batch_time: 0.3548\n",
            "WARNING:root:NaN or Inf found in input tensor.\n",
            "INFO:general_logger:saving model...\n",
            "INFO:general_logger:Train: epoch: 19 batch_idx: 270 ce_loss: 1.9046 accuracy: 0.2892 entropy: 16.9205 n_entropy: 0.1864 loading_time: 0.0018 batch_time: 0.1835\n",
            "INFO:general_logger:Valid: epoch: 19 ce_loss: 1.8486 accuracy: 0.3100 entropy: 45.9992 n_entropy: 0.2206 loading_time: 0.0095 batch_time: 0.3499\n",
            "INFO:general_logger:Train: epoch: 20 batch_idx: 90 ce_loss: 1.9435 accuracy: 0.2733 entropy: 18.4488 n_entropy: 0.1947 loading_time: 0.0024 batch_time: 0.1777\n",
            "INFO:general_logger:Valid: epoch: 20 ce_loss: 1.9258 accuracy: 0.2736 entropy: 46.7511 n_entropy: 0.2255 loading_time: 0.0088 batch_time: 0.3571\n",
            "INFO:general_logger:Train: epoch: 20 batch_idx: 180 ce_loss: 1.9690 accuracy: 0.2680 entropy: 17.5358 n_entropy: 0.1968 loading_time: 0.0018 batch_time: 0.1678\n",
            "INFO:general_logger:Valid: epoch: 20 ce_loss: 2.1266 accuracy: 0.2533 entropy: nan n_entropy: nan loading_time: 0.0099 batch_time: 0.3522\n",
            "WARNING:root:NaN or Inf found in input tensor.\n",
            "INFO:general_logger:Train: epoch: 20 batch_idx: 270 ce_loss: 2.0104 accuracy: 0.2583 entropy: 16.4443 n_entropy: 0.1794 loading_time: 0.0015 batch_time: 0.1768\n",
            "INFO:general_logger:Valid: epoch: 20 ce_loss: 2.0438 accuracy: 0.2665 entropy: 28.0781 n_entropy: 0.1453 loading_time: 0.0095 batch_time: 0.3508\n",
            "INFO:general_logger:Train: epoch: 21 batch_idx: 90 ce_loss: 2.1792 accuracy: 0.2078 entropy: 9.7308 n_entropy: 0.0943 loading_time: 0.0024 batch_time: 0.2186\n",
            "INFO:general_logger:Valid: epoch: 21 ce_loss: 2.4729 accuracy: 0.1773 entropy: 20.1805 n_entropy: 0.1055 loading_time: 0.0096 batch_time: 0.3511\n",
            "INFO:general_logger:Train: epoch: 21 batch_idx: 180 ce_loss: 2.2730 accuracy: 0.2021 entropy: 7.7593 n_entropy: 0.0879 loading_time: 0.0018 batch_time: 0.1925\n",
            "INFO:general_logger:Valid: epoch: 21 ce_loss: 2.2622 accuracy: 0.1996 entropy: 21.8213 n_entropy: 0.1169 loading_time: 0.0093 batch_time: 0.3524\n",
            "INFO:general_logger:Train: epoch: 21 batch_idx: 270 ce_loss: 2.2036 accuracy: 0.2114 entropy: 8.7065 n_entropy: 0.1005 loading_time: 0.0015 batch_time: 0.1879\n",
            "INFO:general_logger:Valid: epoch: 21 ce_loss: 2.0060 accuracy: 0.2330 entropy: nan n_entropy: nan loading_time: 0.0090 batch_time: 0.3567\n",
            "WARNING:root:NaN or Inf found in input tensor.\n",
            "INFO:general_logger:Train: epoch: 22 batch_idx: 90 ce_loss: 2.0112 accuracy: 0.2465 entropy: 10.9751 n_entropy: 0.1177 loading_time: 0.0030 batch_time: 0.1895\n",
            "INFO:general_logger:Valid: epoch: 22 ce_loss: 2.1101 accuracy: 0.2270 entropy: nan n_entropy: nan loading_time: 0.0094 batch_time: 0.3616\n",
            "WARNING:root:NaN or Inf found in input tensor.\n",
            "INFO:general_logger:Train: epoch: 22 batch_idx: 180 ce_loss: 2.0397 accuracy: 0.2455 entropy: 8.4703 n_entropy: 0.0992 loading_time: 0.0020 batch_time: 0.1758\n",
            "INFO:general_logger:Valid: epoch: 22 ce_loss: 2.2290 accuracy: 0.2118 entropy: nan n_entropy: nan loading_time: 0.0089 batch_time: 0.3553\n",
            "WARNING:root:NaN or Inf found in input tensor.\n",
            "INFO:general_logger:learning rate is reduced by factor 0.5!\n",
            "INFO:general_logger:learning rate is reduced by factor 0.5!\n",
            "INFO:general_logger:Train: epoch: 22 batch_idx: 270 ce_loss: 2.0105 accuracy: 0.2551 entropy: 6.6723 n_entropy: 0.0834 loading_time: 0.0017 batch_time: 0.1647\n",
            "INFO:general_logger:Valid: epoch: 22 ce_loss: 1.9753 accuracy: 0.2644 entropy: nan n_entropy: nan loading_time: 0.0085 batch_time: 0.3610\n",
            "WARNING:root:NaN or Inf found in input tensor.\n",
            "INFO:general_logger:Train: epoch: 23 batch_idx: 90 ce_loss: 1.9238 accuracy: 0.2741 entropy: 4.9195 n_entropy: 0.0669 loading_time: 0.0027 batch_time: 0.1830\n",
            "INFO:general_logger:Valid: epoch: 23 ce_loss: 1.8301 accuracy: 0.3060 entropy: 28.5125 n_entropy: 0.1354 loading_time: 0.0099 batch_time: 0.3614\n",
            "INFO:general_logger:Train: epoch: 23 batch_idx: 180 ce_loss: 1.8945 accuracy: 0.2858 entropy: 8.9650 n_entropy: 0.0922 loading_time: 0.0021 batch_time: 0.1967\n",
            "INFO:general_logger:Valid: epoch: 23 ce_loss: 1.7840 accuracy: 0.3333 entropy: nan n_entropy: nan loading_time: 0.0096 batch_time: 0.3602\n",
            "WARNING:root:NaN or Inf found in input tensor.\n",
            "INFO:general_logger:saving model...\n",
            "INFO:general_logger:Train: epoch: 23 batch_idx: 270 ce_loss: 1.8672 accuracy: 0.2996 entropy: 10.1608 n_entropy: 0.0971 loading_time: 0.0017 batch_time: 0.1999\n",
            "INFO:general_logger:Valid: epoch: 23 ce_loss: 1.8276 accuracy: 0.3161 entropy: nan n_entropy: nan loading_time: 0.0101 batch_time: 0.3611\n",
            "WARNING:root:NaN or Inf found in input tensor.\n",
            "INFO:general_logger:Train: epoch: 24 batch_idx: 90 ce_loss: 1.8005 accuracy: 0.3394 entropy: 10.9530 n_entropy: 0.1052 loading_time: 0.0028 batch_time: 0.1999\n",
            "INFO:general_logger:Valid: epoch: 24 ce_loss: 1.8466 accuracy: 0.3323 entropy: nan n_entropy: nan loading_time: 0.0097 batch_time: 0.3562\n",
            "WARNING:root:NaN or Inf found in input tensor.\n",
            "INFO:general_logger:Train: epoch: 24 batch_idx: 180 ce_loss: 1.7721 accuracy: 0.3446 entropy: 10.9150 n_entropy: 0.1158 loading_time: 0.0020 batch_time: 0.1867\n",
            "INFO:general_logger:Valid: epoch: 24 ce_loss: 1.7127 accuracy: 0.3566 entropy: nan n_entropy: nan loading_time: 0.0095 batch_time: 0.3600\n",
            "WARNING:root:NaN or Inf found in input tensor.\n",
            "INFO:general_logger:saving model...\n",
            "INFO:general_logger:Train: epoch: 24 batch_idx: 270 ce_loss: 1.7593 accuracy: 0.3440 entropy: 11.9013 n_entropy: 0.1194 loading_time: 0.0017 batch_time: 0.1912\n",
            "INFO:general_logger:Valid: epoch: 24 ce_loss: 1.6921 accuracy: 0.3799 entropy: nan n_entropy: nan loading_time: 0.0091 batch_time: 0.3543\n",
            "WARNING:root:NaN or Inf found in input tensor.\n",
            "INFO:general_logger:saving model...\n",
            "INFO:general_logger:Train: epoch: 25 batch_idx: 90 ce_loss: 1.7323 accuracy: 0.3660 entropy: 12.2486 n_entropy: 0.1164 loading_time: 0.0027 batch_time: 0.1900\n",
            "INFO:general_logger:Valid: epoch: 25 ce_loss: 1.7329 accuracy: 0.3384 entropy: nan n_entropy: nan loading_time: 0.0097 batch_time: 0.3526\n",
            "WARNING:root:NaN or Inf found in input tensor.\n",
            "INFO:general_logger:Train: epoch: 25 batch_idx: 180 ce_loss: 1.7671 accuracy: 0.3446 entropy: 11.5631 n_entropy: 0.1218 loading_time: 0.0019 batch_time: 0.1838\n",
            "INFO:general_logger:Valid: epoch: 25 ce_loss: 1.7975 accuracy: 0.3232 entropy: nan n_entropy: nan loading_time: 0.0079 batch_time: 0.3514\n",
            "WARNING:root:NaN or Inf found in input tensor.\n",
            "INFO:general_logger:Train: epoch: 25 batch_idx: 270 ce_loss: 1.7517 accuracy: 0.3509 entropy: 11.1474 n_entropy: 0.1189 loading_time: 0.0016 batch_time: 0.1776\n",
            "INFO:general_logger:Valid: epoch: 25 ce_loss: 1.7410 accuracy: 0.3445 entropy: 30.9613 n_entropy: 0.1380 loading_time: 0.0087 batch_time: 0.3566\n",
            "INFO:general_logger:Train: epoch: 26 batch_idx: 90 ce_loss: 1.7046 accuracy: 0.3689 entropy: 9.4403 n_entropy: 0.1229 loading_time: 0.0028 batch_time: 0.1594\n",
            "INFO:general_logger:Valid: epoch: 26 ce_loss: 1.7791 accuracy: 0.3566 entropy: 31.6437 n_entropy: 0.1665 loading_time: 0.0091 batch_time: 0.3539\n",
            "INFO:general_logger:Train: epoch: 26 batch_idx: 180 ce_loss: 1.8112 accuracy: 0.3277 entropy: 9.6598 n_entropy: 0.1216 loading_time: 0.0022 batch_time: 0.1712\n",
            "INFO:general_logger:Valid: epoch: 26 ce_loss: 1.8568 accuracy: 0.2877 entropy: 28.9579 n_entropy: 0.1440 loading_time: 0.0089 batch_time: 0.3534\n",
            "INFO:general_logger:Train: epoch: 26 batch_idx: 270 ce_loss: 1.8297 accuracy: 0.3205 entropy: 9.8820 n_entropy: 0.1230 loading_time: 0.0018 batch_time: 0.1710\n",
            "INFO:general_logger:Valid: epoch: 26 ce_loss: 1.7787 accuracy: 0.3445 entropy: 31.3399 n_entropy: 0.1519 loading_time: 0.0091 batch_time: 0.3565\n",
            "INFO:general_logger:Train: epoch: 27 batch_idx: 90 ce_loss: 1.7886 accuracy: 0.3368 entropy: 11.2431 n_entropy: 0.1258 loading_time: 0.0026 batch_time: 0.1814\n",
            "INFO:general_logger:Valid: epoch: 27 ce_loss: 1.8859 accuracy: 0.2999 entropy: 30.1469 n_entropy: 0.1479 loading_time: 0.0088 batch_time: 0.3522\n",
            "INFO:general_logger:Train: epoch: 27 batch_idx: 180 ce_loss: 1.8355 accuracy: 0.3224 entropy: 12.4664 n_entropy: 0.1300 loading_time: 0.0023 batch_time: 0.1883\n",
            "INFO:general_logger:Valid: epoch: 27 ce_loss: 1.9762 accuracy: 0.2756 entropy: 26.3428 n_entropy: 0.1215 loading_time: 0.0089 batch_time: 0.3539\n",
            "INFO:general_logger:Train: epoch: 27 batch_idx: 270 ce_loss: 1.8709 accuracy: 0.3102 entropy: 10.9968 n_entropy: 0.1247 loading_time: 0.0020 batch_time: 0.1778\n",
            "INFO:general_logger:Valid: epoch: 27 ce_loss: 1.9544 accuracy: 0.2806 entropy: nan n_entropy: nan loading_time: 0.0092 batch_time: 0.3545\n",
            "WARNING:root:NaN or Inf found in input tensor.\n",
            "INFO:general_logger:learning rate is reduced by factor 0.5!\n",
            "INFO:general_logger:learning rate is reduced by factor 0.5!\n",
            "INFO:general_logger:Train: epoch: 28 batch_idx: 90 ce_loss: 1.9448 accuracy: 0.2847 entropy: 18.4692 n_entropy: 0.1208 loading_time: 0.0024 batch_time: 0.2591\n",
            "INFO:general_logger:Valid: epoch: 28 ce_loss: 1.9473 accuracy: 0.2867 entropy: nan n_entropy: nan loading_time: 0.0086 batch_time: 0.3562\n",
            "WARNING:root:NaN or Inf found in input tensor.\n",
            "INFO:general_logger:Train: epoch: 28 batch_idx: 180 ce_loss: 1.9150 accuracy: 0.2944 entropy: 14.9362 n_entropy: 0.1183 loading_time: 0.0017 batch_time: 0.2202\n",
            "INFO:general_logger:Valid: epoch: 28 ce_loss: 1.8588 accuracy: 0.3273 entropy: 29.9213 n_entropy: 0.1330 loading_time: 0.0087 batch_time: 0.3538\n",
            "INFO:general_logger:Train: epoch: 28 batch_idx: 270 ce_loss: 1.8722 accuracy: 0.3079 entropy: 13.8800 n_entropy: 0.1175 loading_time: 0.0015 batch_time: 0.2052\n",
            "INFO:general_logger:Valid: epoch: 28 ce_loss: 1.7364 accuracy: 0.3728 entropy: 28.5615 n_entropy: 0.1253 loading_time: 0.0091 batch_time: 0.3513\n",
            "INFO:general_logger:Train: epoch: 29 batch_idx: 90 ce_loss: 1.7472 accuracy: 0.3514 entropy: 12.3584 n_entropy: 0.1154 loading_time: 0.0028 batch_time: 0.1961\n",
            "INFO:general_logger:Valid: epoch: 29 ce_loss: 1.7773 accuracy: 0.3435 entropy: 27.4225 n_entropy: 0.1245 loading_time: 0.0095 batch_time: 0.3536\n",
            "INFO:general_logger:Train: epoch: 29 batch_idx: 180 ce_loss: 1.7574 accuracy: 0.3510 entropy: 11.5243 n_entropy: 0.1083 loading_time: 0.0018 batch_time: 0.1891\n",
            "INFO:general_logger:Valid: epoch: 29 ce_loss: 1.7496 accuracy: 0.3576 entropy: 28.6899 n_entropy: 0.1306 loading_time: 0.0089 batch_time: 0.3568\n",
            "INFO:general_logger:Train: epoch: 29 batch_idx: 270 ce_loss: 1.7450 accuracy: 0.3527 entropy: 10.9747 n_entropy: 0.1086 loading_time: 0.0016 batch_time: 0.1864\n",
            "INFO:general_logger:Valid: epoch: 29 ce_loss: 1.6611 accuracy: 0.3749 entropy: nan n_entropy: nan loading_time: 0.0090 batch_time: 0.3583\n",
            "WARNING:root:NaN or Inf found in input tensor.\n",
            "INFO:general_logger:Train: epoch: 30 batch_idx: 90 ce_loss: 1.7194 accuracy: 0.3653 entropy: 10.9678 n_entropy: 0.1032 loading_time: 0.0025 batch_time: 0.2044\n",
            "INFO:general_logger:Valid: epoch: 30 ce_loss: 1.6761 accuracy: 0.3668 entropy: 20.1372 n_entropy: 0.0965 loading_time: 0.0089 batch_time: 0.3534\n",
            "INFO:general_logger:Train: epoch: 30 batch_idx: 180 ce_loss: 1.7194 accuracy: 0.3707 entropy: 9.4248 n_entropy: 0.0979 loading_time: 0.0020 batch_time: 0.1887\n",
            "INFO:general_logger:Valid: epoch: 30 ce_loss: 1.7375 accuracy: 0.3516 entropy: nan n_entropy: nan loading_time: 0.0093 batch_time: 0.3470\n",
            "WARNING:root:NaN or Inf found in input tensor.\n",
            "INFO:general_logger:Train: epoch: 30 batch_idx: 270 ce_loss: 1.7236 accuracy: 0.3683 entropy: 11.1542 n_entropy: 0.1011 loading_time: 0.0016 batch_time: 0.1976\n",
            "INFO:general_logger:Valid: epoch: 30 ce_loss: 1.7068 accuracy: 0.3830 entropy: 26.9599 n_entropy: 0.1196 loading_time: 0.0087 batch_time: 0.3538\n",
            "INFO:general_logger:saving model...\n",
            "INFO:general_logger:Train: epoch: 31 batch_idx: 90 ce_loss: 1.6629 accuracy: 0.3983 entropy: 8.0305 n_entropy: 0.1069 loading_time: 0.0031 batch_time: 0.1587\n",
            "INFO:general_logger:Valid: epoch: 31 ce_loss: 1.6951 accuracy: 0.3830 entropy: nan n_entropy: nan loading_time: 0.0095 batch_time: 0.3561\n",
            "WARNING:root:NaN or Inf found in input tensor.\n",
            "INFO:general_logger:Train: epoch: 31 batch_idx: 180 ce_loss: 1.6487 accuracy: 0.3969 entropy: 10.0244 n_entropy: 0.1077 loading_time: 0.0020 batch_time: 0.1723\n",
            "INFO:general_logger:Valid: epoch: 31 ce_loss: 1.6564 accuracy: 0.3921 entropy: nan n_entropy: nan loading_time: 0.0085 batch_time: 0.3512\n",
            "WARNING:root:NaN or Inf found in input tensor.\n",
            "INFO:general_logger:saving model...\n",
            "INFO:general_logger:Train: epoch: 31 batch_idx: 270 ce_loss: 1.6390 accuracy: 0.3970 entropy: 10.0789 n_entropy: 0.1113 loading_time: 0.0017 batch_time: 0.1692\n",
            "INFO:general_logger:Valid: epoch: 31 ce_loss: 1.6150 accuracy: 0.3911 entropy: 34.2760 n_entropy: 0.1605 loading_time: 0.0092 batch_time: 0.3503\n",
            "INFO:general_logger:Train: epoch: 32 batch_idx: 90 ce_loss: 1.6668 accuracy: 0.3856 entropy: 10.2487 n_entropy: 0.1232 loading_time: 0.0021 batch_time: 0.1761\n",
            "INFO:general_logger:Valid: epoch: 32 ce_loss: 1.6237 accuracy: 0.4083 entropy: 28.7814 n_entropy: 0.1319 loading_time: 0.0094 batch_time: 0.3521\n",
            "INFO:general_logger:saving model...\n",
            "INFO:general_logger:Train: epoch: 32 batch_idx: 180 ce_loss: 1.6530 accuracy: 0.3852 entropy: 12.5592 n_entropy: 0.1217 loading_time: 0.0015 batch_time: 0.1895\n",
            "INFO:general_logger:Valid: epoch: 32 ce_loss: 1.6763 accuracy: 0.3617 entropy: nan n_entropy: nan loading_time: 0.0095 batch_time: 0.3556\n",
            "WARNING:root:NaN or Inf found in input tensor.\n",
            "INFO:general_logger:Train: epoch: 32 batch_idx: 270 ce_loss: 1.6804 accuracy: 0.3738 entropy: 12.8369 n_entropy: 0.1244 loading_time: 0.0013 batch_time: 0.1917\n",
            "INFO:general_logger:Valid: epoch: 32 ce_loss: 1.8311 accuracy: 0.3293 entropy: 30.4411 n_entropy: 0.1545 loading_time: 0.0087 batch_time: 0.3536\n",
            "INFO:general_logger:Train: epoch: 33 batch_idx: 90 ce_loss: 1.7377 accuracy: 0.3484 entropy: 8.5178 n_entropy: 0.0973 loading_time: 0.0025 batch_time: 0.1887\n",
            "INFO:general_logger:Valid: epoch: 33 ce_loss: 1.7902 accuracy: 0.3455 entropy: 17.8156 n_entropy: 0.0964 loading_time: 0.0087 batch_time: 0.3462\n",
            "INFO:general_logger:Train: epoch: 33 batch_idx: 180 ce_loss: 1.7349 accuracy: 0.3545 entropy: 8.3547 n_entropy: 0.0940 loading_time: 0.0015 batch_time: 0.1875\n",
            "INFO:general_logger:Valid: epoch: 33 ce_loss: 1.7780 accuracy: 0.3445 entropy: 18.0648 n_entropy: 0.1009 loading_time: 0.0084 batch_time: 0.3510\n",
            "INFO:general_logger:Train: epoch: 33 batch_idx: 270 ce_loss: 1.7433 accuracy: 0.3524 entropy: 7.6859 n_entropy: 0.0910 loading_time: 0.0013 batch_time: 0.1833\n",
            "INFO:general_logger:Valid: epoch: 33 ce_loss: 1.7704 accuracy: 0.3901 entropy: 14.2731 n_entropy: 0.0845 loading_time: 0.0096 batch_time: 0.3497\n",
            "INFO:general_logger:Train: epoch: 34 batch_idx: 90 ce_loss: 1.8131 accuracy: 0.3354 entropy: 3.2679 n_entropy: 0.0393 loading_time: 0.0023 batch_time: 0.1850\n",
            "INFO:general_logger:Valid: epoch: 34 ce_loss: 1.7532 accuracy: 0.3556 entropy: 10.6547 n_entropy: 0.0496 loading_time: 0.0092 batch_time: 0.3509\n",
            "INFO:general_logger:Train: epoch: 34 batch_idx: 180 ce_loss: 1.7722 accuracy: 0.3465 entropy: 3.0572 n_entropy: 0.0435 loading_time: 0.0017 batch_time: 0.1700\n",
            "INFO:general_logger:Valid: epoch: 34 ce_loss: 1.8806 accuracy: 0.3121 entropy: 10.8548 n_entropy: 0.0572 loading_time: 0.0093 batch_time: 0.3500\n",
            "INFO:general_logger:Train: epoch: 34 batch_idx: 270 ce_loss: 1.7859 accuracy: 0.3422 entropy: 4.1067 n_entropy: 0.0485 loading_time: 0.0014 batch_time: 0.1839\n",
            "INFO:general_logger:Valid: epoch: 34 ce_loss: 1.7747 accuracy: 0.3435 entropy: 9.4333 n_entropy: 0.0569 loading_time: 0.0095 batch_time: 0.3530\n",
            "INFO:general_logger:Train: epoch: 35 batch_idx: 90 ce_loss: 1.7837 accuracy: 0.3380 entropy: 8.4467 n_entropy: 0.0867 loading_time: 0.0030 batch_time: 0.1983\n",
            "INFO:general_logger:Valid: epoch: 35 ce_loss: 1.7853 accuracy: 0.3293 entropy: 26.3610 n_entropy: 0.1304 loading_time: 0.0097 batch_time: 0.3517\n",
            "INFO:general_logger:learning rate is reduced by factor 0.5!\n",
            "INFO:general_logger:learning rate is reduced by factor 0.5!\n",
            "INFO:general_logger:Train: epoch: 35 batch_idx: 180 ce_loss: 1.7424 accuracy: 0.3520 entropy: 8.5535 n_entropy: 0.0952 loading_time: 0.0022 batch_time: 0.1845\n",
            "INFO:general_logger:Valid: epoch: 35 ce_loss: 1.6020 accuracy: 0.3951 entropy: 26.5065 n_entropy: 0.1232 loading_time: 0.0100 batch_time: 0.3549\n",
            "INFO:general_logger:Train: epoch: 35 batch_idx: 270 ce_loss: 1.6892 accuracy: 0.3701 entropy: 9.0076 n_entropy: 0.0934 loading_time: 0.0018 batch_time: 0.1882\n",
            "INFO:general_logger:Valid: epoch: 35 ce_loss: 1.5683 accuracy: 0.4235 entropy: 21.6564 n_entropy: 0.1038 loading_time: 0.0091 batch_time: 0.3496\n",
            "INFO:general_logger:saving model...\n",
            "INFO:general_logger:Train: epoch: 36 batch_idx: 90 ce_loss: 1.5625 accuracy: 0.4274 entropy: 7.1978 n_entropy: 0.0896 loading_time: 0.0028 batch_time: 0.1639\n",
            "INFO:general_logger:Valid: epoch: 36 ce_loss: 1.5540 accuracy: 0.4164 entropy: 20.0923 n_entropy: 0.0993 loading_time: 0.0100 batch_time: 0.3542\n",
            "INFO:general_logger:Train: epoch: 36 batch_idx: 180 ce_loss: 1.5505 accuracy: 0.4307 entropy: 7.9866 n_entropy: 0.0868 loading_time: 0.0020 batch_time: 0.1773\n",
            "INFO:general_logger:Valid: epoch: 36 ce_loss: 1.5713 accuracy: 0.3921 entropy: nan n_entropy: nan loading_time: 0.0105 batch_time: 0.3567\n",
            "WARNING:root:NaN or Inf found in input tensor.\n",
            "INFO:general_logger:Train: epoch: 36 batch_idx: 270 ce_loss: 1.5435 accuracy: 0.4293 entropy: 6.8793 n_entropy: 0.0818 loading_time: 0.0016 batch_time: 0.1688\n",
            "INFO:general_logger:Valid: epoch: 36 ce_loss: 1.5355 accuracy: 0.4286 entropy: nan n_entropy: nan loading_time: 0.0082 batch_time: 0.3512\n",
            "WARNING:root:NaN or Inf found in input tensor.\n",
            "INFO:general_logger:saving model...\n",
            "INFO:general_logger:Train: epoch: 37 batch_idx: 90 ce_loss: 1.5498 accuracy: 0.4196 entropy: 9.9828 n_entropy: 0.0886 loading_time: 0.0024 batch_time: 0.2147\n",
            "INFO:general_logger:Valid: epoch: 37 ce_loss: 1.5034 accuracy: 0.4296 entropy: nan n_entropy: nan loading_time: 0.0094 batch_time: 0.3508\n",
            "WARNING:root:NaN or Inf found in input tensor.\n",
            "INFO:general_logger:Train: epoch: 37 batch_idx: 180 ce_loss: 1.5429 accuracy: 0.4215 entropy: 9.7713 n_entropy: 0.0972 loading_time: 0.0018 batch_time: 0.1963\n",
            "INFO:general_logger:Valid: epoch: 37 ce_loss: 1.5546 accuracy: 0.4073 entropy: nan n_entropy: nan loading_time: 0.0095 batch_time: 0.3563\n",
            "WARNING:root:NaN or Inf found in input tensor.\n",
            "INFO:general_logger:Train: epoch: 37 batch_idx: 270 ce_loss: 1.5258 accuracy: 0.4308 entropy: 9.9069 n_entropy: 0.0974 loading_time: 0.0015 batch_time: 0.1904\n",
            "INFO:general_logger:Valid: epoch: 37 ce_loss: 1.5350 accuracy: 0.4316 entropy: nan n_entropy: nan loading_time: 0.0094 batch_time: 0.3561\n",
            "WARNING:root:NaN or Inf found in input tensor.\n",
            "INFO:general_logger:saving model...\n",
            "INFO:general_logger:Train: epoch: 38 batch_idx: 90 ce_loss: 1.5379 accuracy: 0.4231 entropy: 11.6788 n_entropy: 0.1045 loading_time: 0.0026 batch_time: 0.1990\n",
            "INFO:general_logger:Valid: epoch: 38 ce_loss: 1.5545 accuracy: 0.4174 entropy: 24.9059 n_entropy: 0.1158 loading_time: 0.0091 batch_time: 0.3539\n",
            "INFO:general_logger:Train: epoch: 38 batch_idx: 180 ce_loss: 1.5262 accuracy: 0.4273 entropy: 11.9221 n_entropy: 0.1028 loading_time: 0.0019 batch_time: 0.2058\n",
            "INFO:general_logger:Valid: epoch: 38 ce_loss: 1.5042 accuracy: 0.4529 entropy: 23.2818 n_entropy: 0.1140 loading_time: 0.0096 batch_time: 0.3522\n",
            "INFO:general_logger:saving model...\n",
            "INFO:general_logger:Train: epoch: 38 batch_idx: 270 ce_loss: 1.5276 accuracy: 0.4273 entropy: 11.8341 n_entropy: 0.1047 loading_time: 0.0017 batch_time: 0.2109\n",
            "INFO:general_logger:Valid: epoch: 38 ce_loss: 1.5189 accuracy: 0.4306 entropy: 23.2687 n_entropy: 0.1153 loading_time: 0.0098 batch_time: 0.3518\n",
            "INFO:general_logger:Train: epoch: 39 batch_idx: 90 ce_loss: 1.4676 accuracy: 0.4512 entropy: 9.7658 n_entropy: 0.0985 loading_time: 0.0030 batch_time: 0.2128\n",
            "INFO:general_logger:Valid: epoch: 39 ce_loss: 1.5207 accuracy: 0.4407 entropy: 22.9672 n_entropy: 0.1089 loading_time: 0.0105 batch_time: 0.3631\n",
            "INFO:general_logger:Train: epoch: 39 batch_idx: 180 ce_loss: 1.4853 accuracy: 0.4464 entropy: 11.3952 n_entropy: 0.1053 loading_time: 0.0021 batch_time: 0.2186\n",
            "INFO:general_logger:Valid: epoch: 39 ce_loss: 1.4527 accuracy: 0.4549 entropy: 27.1149 n_entropy: 0.1283 loading_time: 0.0102 batch_time: 0.3530\n",
            "INFO:general_logger:Train: epoch: 39 batch_idx: 270 ce_loss: 1.4552 accuracy: 0.4557 entropy: 10.9848 n_entropy: 0.1068 loading_time: 0.0018 batch_time: 0.2019\n",
            "INFO:general_logger:Valid: epoch: 39 ce_loss: 1.4550 accuracy: 0.4630 entropy: nan n_entropy: nan loading_time: 0.0099 batch_time: 0.3615\n",
            "WARNING:root:NaN or Inf found in input tensor.\n",
            "INFO:general_logger:saving model...\n",
            "INFO:general_logger:Train: epoch: 40 batch_idx: 90 ce_loss: 1.4380 accuracy: 0.4637 entropy: 8.6857 n_entropy: 0.0997 loading_time: 0.0026 batch_time: 0.1834\n",
            "INFO:general_logger:Valid: epoch: 40 ce_loss: 1.4880 accuracy: 0.4539 entropy: nan n_entropy: nan loading_time: 0.0098 batch_time: 0.3517\n",
            "WARNING:root:NaN or Inf found in input tensor.\n",
            "INFO:general_logger:Train: epoch: 40 batch_idx: 180 ce_loss: 1.4202 accuracy: 0.4681 entropy: 7.7104 n_entropy: 0.0913 loading_time: 0.0019 batch_time: 0.1708\n",
            "INFO:general_logger:Valid: epoch: 40 ce_loss: 1.4632 accuracy: 0.4569 entropy: 20.1893 n_entropy: 0.0930 loading_time: 0.0095 batch_time: 0.3579\n",
            "INFO:general_logger:Train: epoch: 40 batch_idx: 270 ce_loss: 1.4519 accuracy: 0.4558 entropy: 8.5668 n_entropy: 0.0910 loading_time: 0.0016 batch_time: 0.1864\n",
            "INFO:general_logger:Valid: epoch: 40 ce_loss: 1.5001 accuracy: 0.4326 entropy: 22.7210 n_entropy: 0.0995 loading_time: 0.0094 batch_time: 0.3528\n",
            "INFO:general_logger:Train: epoch: 41 batch_idx: 90 ce_loss: 1.4522 accuracy: 0.4618 entropy: 7.4151 n_entropy: 0.0830 loading_time: 0.0027 batch_time: 0.1745\n",
            "INFO:general_logger:Valid: epoch: 41 ce_loss: 1.5408 accuracy: 0.4387 entropy: 19.5177 n_entropy: 0.0861 loading_time: 0.0097 batch_time: 0.3578\n",
            "INFO:general_logger:Train: epoch: 41 batch_idx: 180 ce_loss: 1.4474 accuracy: 0.4632 entropy: 7.6766 n_entropy: 0.0861 loading_time: 0.0020 batch_time: 0.1697\n",
            "INFO:general_logger:Valid: epoch: 41 ce_loss: 1.4295 accuracy: 0.4711 entropy: 28.2714 n_entropy: 0.1237 loading_time: 0.0091 batch_time: 0.3573\n",
            "INFO:general_logger:saving model...\n",
            "INFO:general_logger:Train: epoch: 41 batch_idx: 270 ce_loss: 1.4506 accuracy: 0.4604 entropy: 9.8736 n_entropy: 0.0976 loading_time: 0.0017 batch_time: 0.1857\n",
            "INFO:general_logger:Valid: epoch: 41 ce_loss: 1.3965 accuracy: 0.4904 entropy: 30.6613 n_entropy: 0.1411 loading_time: 0.0094 batch_time: 0.3492\n",
            "INFO:general_logger:saving model...\n",
            "INFO:general_logger:Train: epoch: 42 batch_idx: 90 ce_loss: 1.3590 accuracy: 0.4910 entropy: 10.9873 n_entropy: 0.1176 loading_time: 0.0026 batch_time: 0.1806\n",
            "INFO:general_logger:Valid: epoch: 42 ce_loss: 1.4411 accuracy: 0.4640 entropy: 29.3618 n_entropy: 0.1359 loading_time: 0.0107 batch_time: 0.3533\n",
            "INFO:general_logger:Train: epoch: 42 batch_idx: 180 ce_loss: 1.4007 accuracy: 0.4714 entropy: 11.5474 n_entropy: 0.1182 loading_time: 0.0017 batch_time: 0.1866\n",
            "INFO:general_logger:Valid: epoch: 42 ce_loss: 1.4522 accuracy: 0.4428 entropy: 24.2384 n_entropy: 0.1092 loading_time: 0.0096 batch_time: 0.3611\n",
            "INFO:general_logger:Train: epoch: 42 batch_idx: 270 ce_loss: 1.4050 accuracy: 0.4741 entropy: 10.5062 n_entropy: 0.1114 loading_time: 0.0015 batch_time: 0.1789\n",
            "INFO:general_logger:Valid: epoch: 42 ce_loss: 1.4438 accuracy: 0.4661 entropy: 33.1190 n_entropy: 0.1506 loading_time: 0.0090 batch_time: 0.3515\n",
            "INFO:general_logger:Train: epoch: 43 batch_idx: 90 ce_loss: 1.3925 accuracy: 0.4865 entropy: 11.0073 n_entropy: 0.1189 loading_time: 0.0023 batch_time: 0.1754\n",
            "INFO:general_logger:Valid: epoch: 43 ce_loss: 1.4316 accuracy: 0.4701 entropy: 29.0978 n_entropy: 0.1361 loading_time: 0.0085 batch_time: 0.3573\n",
            "INFO:general_logger:Train: epoch: 43 batch_idx: 180 ce_loss: 1.4047 accuracy: 0.4806 entropy: 11.3858 n_entropy: 0.1221 loading_time: 0.0018 batch_time: 0.1837\n",
            "INFO:general_logger:Valid: epoch: 43 ce_loss: 1.4278 accuracy: 0.4873 entropy: 30.4743 n_entropy: 0.1476 loading_time: 0.0090 batch_time: 0.3533\n",
            "INFO:general_logger:Train: epoch: 43 batch_idx: 270 ce_loss: 1.4293 accuracy: 0.4706 entropy: 13.7596 n_entropy: 0.1309 loading_time: 0.0016 batch_time: 0.2011\n",
            "INFO:general_logger:Valid: epoch: 43 ce_loss: 1.4272 accuracy: 0.4681 entropy: 33.1402 n_entropy: 0.1605 loading_time: 0.0089 batch_time: 0.3507\n",
            "INFO:general_logger:Train: epoch: 44 batch_idx: 90 ce_loss: 1.3281 accuracy: 0.5094 entropy: 13.7331 n_entropy: 0.1400 loading_time: 0.0026 batch_time: 0.1795\n",
            "INFO:general_logger:Valid: epoch: 44 ce_loss: 1.4017 accuracy: 0.4823 entropy: 31.0854 n_entropy: 0.1461 loading_time: 0.0097 batch_time: 0.3556\n",
            "INFO:general_logger:Train: epoch: 44 batch_idx: 180 ce_loss: 1.3309 accuracy: 0.5073 entropy: 13.6274 n_entropy: 0.1341 loading_time: 0.0019 batch_time: 0.1800\n",
            "INFO:general_logger:Valid: epoch: 44 ce_loss: 1.3859 accuracy: 0.4843 entropy: 29.8583 n_entropy: 0.1400 loading_time: 0.0098 batch_time: 0.3552\n",
            "INFO:general_logger:Train: epoch: 44 batch_idx: 270 ce_loss: 1.3488 accuracy: 0.4995 entropy: 13.1355 n_entropy: 0.1314 loading_time: 0.0016 batch_time: 0.1807\n",
            "INFO:general_logger:Valid: epoch: 44 ce_loss: 1.4232 accuracy: 0.4802 entropy: 29.9046 n_entropy: 0.1394 loading_time: 0.0096 batch_time: 0.3505\n",
            "INFO:general_logger:learning rate is reduced by factor 0.5!\n",
            "INFO:general_logger:learning rate is reduced by factor 0.5!\n",
            "INFO:general_logger:Train: epoch: 45 batch_idx: 90 ce_loss: 1.3824 accuracy: 0.4915 entropy: 13.9643 n_entropy: 0.1293 loading_time: 0.0032 batch_time: 0.2169\n",
            "INFO:general_logger:Valid: epoch: 45 ce_loss: 1.3654 accuracy: 0.5005 entropy: 33.3790 n_entropy: 0.1492 loading_time: 0.0101 batch_time: 0.3511\n",
            "INFO:general_logger:saving model...\n",
            "INFO:general_logger:Train: epoch: 45 batch_idx: 180 ce_loss: 1.3321 accuracy: 0.5036 entropy: 14.1210 n_entropy: 0.1287 loading_time: 0.0024 batch_time: 0.2036\n",
            "INFO:general_logger:Valid: epoch: 45 ce_loss: 1.3236 accuracy: 0.4975 entropy: 33.2152 n_entropy: 0.1522 loading_time: 0.0090 batch_time: 0.3526\n",
            "INFO:general_logger:Train: epoch: 45 batch_idx: 270 ce_loss: 1.2974 accuracy: 0.5163 entropy: 13.3062 n_entropy: 0.1284 loading_time: 0.0020 batch_time: 0.1927\n",
            "INFO:general_logger:Valid: epoch: 45 ce_loss: 1.3248 accuracy: 0.5096 entropy: 31.9061 n_entropy: 0.1488 loading_time: 0.0093 batch_time: 0.3520\n",
            "INFO:general_logger:saving model...\n",
            "INFO:general_logger:Train: epoch: 46 batch_idx: 90 ce_loss: 1.2712 accuracy: 0.5295 entropy: 18.5340 n_entropy: 0.1338 loading_time: 0.0028 batch_time: 0.2258\n",
            "INFO:general_logger:Valid: epoch: 46 ce_loss: 1.3462 accuracy: 0.5046 entropy: 30.7422 n_entropy: 0.1441 loading_time: 0.0083 batch_time: 0.3489\n",
            "INFO:general_logger:Train: epoch: 46 batch_idx: 180 ce_loss: 1.2932 accuracy: 0.5163 entropy: 15.6761 n_entropy: 0.1298 loading_time: 0.0021 batch_time: 0.2122\n",
            "INFO:general_logger:Valid: epoch: 46 ce_loss: 1.3279 accuracy: 0.4883 entropy: 31.4408 n_entropy: 0.1476 loading_time: 0.0095 batch_time: 0.3549\n",
            "INFO:general_logger:Train: epoch: 46 batch_idx: 270 ce_loss: 1.2773 accuracy: 0.5213 entropy: 14.1444 n_entropy: 0.1294 loading_time: 0.0018 batch_time: 0.2000\n",
            "INFO:general_logger:Valid: epoch: 46 ce_loss: 1.3080 accuracy: 0.5127 entropy: 31.5019 n_entropy: 0.1468 loading_time: 0.0087 batch_time: 0.3562\n",
            "INFO:general_logger:saving model...\n",
            "INFO:general_logger:Train: epoch: 47 batch_idx: 90 ce_loss: 1.2242 accuracy: 0.5436 entropy: 11.7375 n_entropy: 0.1216 loading_time: 0.0025 batch_time: 0.1756\n",
            "INFO:general_logger:Valid: epoch: 47 ce_loss: 1.2550 accuracy: 0.5208 entropy: 32.4689 n_entropy: 0.1561 loading_time: 0.0088 batch_time: 0.3488\n",
            "INFO:general_logger:saving model...\n",
            "INFO:general_logger:Train: epoch: 47 batch_idx: 180 ce_loss: 1.2266 accuracy: 0.5449 entropy: 12.7856 n_entropy: 0.1297 loading_time: 0.0019 batch_time: 0.1853\n",
            "INFO:general_logger:Valid: epoch: 47 ce_loss: 1.2862 accuracy: 0.5319 entropy: nan n_entropy: nan loading_time: 0.0094 batch_time: 0.3537\n",
            "WARNING:root:NaN or Inf found in input tensor.\n",
            "INFO:general_logger:saving model...\n",
            "INFO:general_logger:Train: epoch: 47 batch_idx: 270 ce_loss: 1.2208 accuracy: 0.5458 entropy: 13.5588 n_entropy: 0.1317 loading_time: 0.0017 batch_time: 0.1909\n",
            "INFO:general_logger:Valid: epoch: 47 ce_loss: 1.2661 accuracy: 0.5339 entropy: nan n_entropy: nan loading_time: 0.0093 batch_time: 0.3505\n",
            "WARNING:root:NaN or Inf found in input tensor.\n",
            "INFO:general_logger:Train: epoch: 48 batch_idx: 90 ce_loss: 1.2013 accuracy: 0.5559 entropy: 12.9891 n_entropy: 0.1268 loading_time: 0.0028 batch_time: 0.1871\n",
            "INFO:general_logger:Valid: epoch: 48 ce_loss: 1.2610 accuracy: 0.5309 entropy: nan n_entropy: nan loading_time: 0.0091 batch_time: 0.3533\n",
            "WARNING:root:NaN or Inf found in input tensor.\n",
            "INFO:general_logger:Train: epoch: 48 batch_idx: 180 ce_loss: 1.2162 accuracy: 0.5477 entropy: 13.4646 n_entropy: 0.1281 loading_time: 0.0019 batch_time: 0.1920\n",
            "INFO:general_logger:Valid: epoch: 48 ce_loss: 1.2547 accuracy: 0.5167 entropy: 29.9324 n_entropy: 0.1390 loading_time: 0.0093 batch_time: 0.3549\n",
            "INFO:general_logger:Train: epoch: 48 batch_idx: 270 ce_loss: 1.2408 accuracy: 0.5358 entropy: 12.5291 n_entropy: 0.1247 loading_time: 0.0016 batch_time: 0.1896\n",
            "INFO:general_logger:Valid: epoch: 48 ce_loss: 1.2912 accuracy: 0.5096 entropy: 26.8499 n_entropy: 0.1279 loading_time: 0.0089 batch_time: 0.3503\n",
            "INFO:general_logger:Train: epoch: 49 batch_idx: 90 ce_loss: 1.1753 accuracy: 0.5573 entropy: 6.7708 n_entropy: 0.0959 loading_time: 0.0025 batch_time: 0.1514\n",
            "INFO:general_logger:Valid: epoch: 49 ce_loss: 1.3089 accuracy: 0.5117 entropy: 22.9973 n_entropy: 0.1120 loading_time: 0.0090 batch_time: 0.3527\n",
            "INFO:general_logger:Train: epoch: 49 batch_idx: 180 ce_loss: 1.1920 accuracy: 0.5532 entropy: 9.0724 n_entropy: 0.1016 loading_time: 0.0016 batch_time: 0.1681\n",
            "INFO:general_logger:Valid: epoch: 49 ce_loss: 1.2611 accuracy: 0.5380 entropy: 29.1894 n_entropy: 0.1418 loading_time: 0.0098 batch_time: 0.3531\n",
            "INFO:general_logger:saving model...\n",
            "INFO:general_logger:Train: epoch: 49 batch_idx: 270 ce_loss: 1.1957 accuracy: 0.5509 entropy: 10.1367 n_entropy: 0.1093 loading_time: 0.0015 batch_time: 0.1727\n",
            "INFO:general_logger:Valid: epoch: 49 ce_loss: 1.2847 accuracy: 0.5299 entropy: 30.1184 n_entropy: 0.1497 loading_time: 0.0087 batch_time: 0.3481\n",
            "INFO:general_logger:Train: epoch: 50 batch_idx: 90 ce_loss: 1.2347 accuracy: 0.5372 entropy: 10.7234 n_entropy: 0.1275 loading_time: 0.0028 batch_time: 0.1781\n",
            "INFO:general_logger:Valid: epoch: 50 ce_loss: 1.2635 accuracy: 0.5339 entropy: nan n_entropy: nan loading_time: 0.0093 batch_time: 0.3464\n",
            "WARNING:root:NaN or Inf found in input tensor.\n",
            "INFO:general_logger:Train: epoch: 50 batch_idx: 180 ce_loss: 1.2182 accuracy: 0.5437 entropy: 11.5443 n_entropy: 0.1220 loading_time: 0.0021 batch_time: 0.1826\n",
            "INFO:general_logger:Valid: epoch: 50 ce_loss: 1.2809 accuracy: 0.5218 entropy: 26.1812 n_entropy: 0.1372 loading_time: 0.0091 batch_time: 0.3503\n",
            "INFO:general_logger:Train: epoch: 50 batch_idx: 270 ce_loss: 1.2321 accuracy: 0.5396 entropy: 11.6932 n_entropy: 0.1230 loading_time: 0.0018 batch_time: 0.1840\n",
            "INFO:general_logger:Valid: epoch: 50 ce_loss: 1.2580 accuracy: 0.5258 entropy: 29.2731 n_entropy: 0.1453 loading_time: 0.0089 batch_time: 0.3536\n",
            "INFO:general_logger:Train: epoch: 51 batch_idx: 90 ce_loss: 1.2464 accuracy: 0.5359 entropy: 17.1146 n_entropy: 0.1407 loading_time: 0.0025 batch_time: 0.2277\n",
            "INFO:general_logger:Valid: epoch: 51 ce_loss: 1.2753 accuracy: 0.5177 entropy: 34.0393 n_entropy: 0.1662 loading_time: 0.0090 batch_time: 0.3540\n",
            "INFO:general_logger:Train: epoch: 51 batch_idx: 180 ce_loss: 1.2339 accuracy: 0.5405 entropy: 15.7475 n_entropy: 0.1413 loading_time: 0.0018 batch_time: 0.2100\n",
            "INFO:general_logger:Valid: epoch: 51 ce_loss: 1.2627 accuracy: 0.5208 entropy: 30.8881 n_entropy: 0.1503 loading_time: 0.0090 batch_time: 0.3526\n",
            "\n",
            "INFO:general_logger:Train: epoch: 51 batch_idx: 270 ce_loss: 1.2267 accuracy: 0.5422 entropy: 16.1795 n_entropy: 0.1387 loading_time: 0.0014 batch_time: 0.2118\n",
            "\n",
            "INFO:general_logger:Valid: epoch: 51 ce_loss: 1.2767 accuracy: 0.5106 entropy: 34.4912 n_entropy: 0.1698 loading_time: 0.0095 batch_time: 0.3528\n",
            "Traceback (most recent call last):\n",
            "  File \"/usr/lib/python3.6/runpy.py\", line 193, in _run_module_as_main\n",
            "    \"__main__\", mod_spec)\n",
            "  File \"/usr/lib/python3.6/runpy.py\", line 85, in _run_code\n",
            "    exec(code, run_globals)\n",
            "  File \"/content/gdrive/My Drive/Colab Notebooks/latent-treelstm/listops/reinforce/train_reinforce_model.py\", line 350, in <module>\n",
            "    main(args)\n",
            "  File \"/content/gdrive/My Drive/Colab Notebooks/latent-treelstm/listops/reinforce/train_reinforce_model.py\", line 276, in main\n",
            "    train(train_data, valid_data, model, optimizer, lr_scheduler, es, epoch, args, logger, summary_writer)\n",
            "  File \"/content/gdrive/My Drive/Colab Notebooks/latent-treelstm/listops/reinforce/train_reinforce_model.py\", line 219, in train\n",
            "    rl_loss.backward()\n",
            "  File \"/usr/local/lib/python3.6/dist-packages/torch/tensor.py\", line 166, in backward\n",
            "    torch.autograd.backward(self, gradient, retain_graph, create_graph)\n",
            "  File \"/usr/local/lib/python3.6/dist-packages/torch/autograd/__init__.py\", line 99, in backward\n",
            "    allow_unreachable=True)  # allow_unreachable flag\n",
            "KeyboardInterrupt\n"
          ],
          "name": "stdout"
        }
      ]
    },
    {
      "cell_type": "code",
      "metadata": {
        "id": "suefBexIKjJK",
        "colab_type": "code",
        "outputId": "5d65ee07-05c8-4769-d747-b3a19aee72f9",
        "colab": {
          "base_uri": "https://localhost:8080/",
          "height": 217
        }
      },
      "source": [
        "!python -m listops.reinforce.train_reinforce_model --optimizer adadelta --max-epoch 50 --model-dir data/listops/reinforce/models/exp_delta_1 --logs-path data/listops/reinforce/logs/exp_delta_1 --tensorboard-path data/listops/reinforce/tensorboard/exp_delta_1"
      ],
      "execution_count": 0,
      "outputs": [
        {
          "output_type": "stream",
          "text": [
            "data/listops/reinforce/logs/exp_delta_1/l-1623491595417383556.log\n",
            "file path: data/listops/interim/train.tsv\n",
            "number of skipped sentences due to length > 130: 1578\n",
            "number of skipped sentences due to length < 2: 0\n",
            "file path: data/listops/interim/valid.tsv\n",
            "number of skipped sentences due to length > 300: 13\n",
            "number of skipped sentences due to length < 2: 0\n",
            "file path: data/listops/interim/test.tsv\n",
            "number of skipped sentences due to length > inf: 0\n",
            "number of skipped sentences due to length < 2: 1\n",
            "data/listops/reinforce/models/exp_delta_1/m-1623491595417383556/15-89.mdl\n"
          ],
          "name": "stdout"
        }
      ]
    },
    {
      "cell_type": "code",
      "metadata": {
        "id": "GswEinS2K1El",
        "colab_type": "code",
        "outputId": "5dfb0465-c042-4b22-f577-4b2b3e691eaa",
        "colab": {
          "base_uri": "https://localhost:8080/",
          "height": 227
        }
      },
      "source": [
        "!python -m listops.reinforce.train_reinforce_model --optimizer adadelta --max-epoch 50 --model-dir data/listops/reinforce/models/exp_delta_2 --logs-path data/listops/reinforce/logs/exp_delta_2 --tensorboard-path data/listops/reinforce/tensorboard/exp_delta_2"
      ],
      "execution_count": 0,
      "outputs": [
        {
          "output_type": "stream",
          "text": [
            "data/listops/reinforce/logs/exp_delta_2/l2098109692819218318.log\n",
            "file path: data/listops/interim/train.tsv\n",
            "number of skipped sentences due to length > 130: 1578\n",
            "number of skipped sentences due to length < 2: 0\n",
            "file path: data/listops/interim/valid.tsv\n",
            "number of skipped sentences due to length > 300: 13\n",
            "number of skipped sentences due to length < 2: 0\n",
            "file path: data/listops/interim/test.tsv\n",
            "number of skipped sentences due to length > inf: 0\n",
            "number of skipped sentences due to length < 2: 1\n"
          ],
          "name": "stdout"
        }
      ]
    },
    {
      "cell_type": "code",
      "metadata": {
        "id": "i11SnWUbRWgE",
        "colab_type": "code",
        "colab": {}
      },
      "source": [
        "!python -m listops.reinforce.train_reinforce_model --optimizer sgd --max-epoch 50 --model-dir data/listops/reinforce/models/exp_sgd_1 --logs-path data/listops/reinforce/logs/exp_sgd_1 --tensorboard-path data/listops/reinforce/tensorboard/exp_sgd_1"
      ],
      "execution_count": 0,
      "outputs": []
    },
    {
      "cell_type": "code",
      "metadata": {
        "id": "C6Pkz-WMKkWL",
        "colab_type": "code",
        "colab": {}
      },
      "source": [
        "!python -m listops.reinforce.train_reinforce_model --optimizer sgd --max-epoch 50 --model-dir data/listops/reinforce/models/exp_sgd_2 --logs-path data/listops/reinforce/logs/exp_sgd_2 --tensorboard-path data/listops/reinforce/tensorboard/exp_sgd_2"
      ],
      "execution_count": 0,
      "outputs": []
    },
    {
      "cell_type": "markdown",
      "metadata": {
        "id": "quhfUDkTjQJ9",
        "colab_type": "text"
      },
      "source": [
        ""
      ]
    }
  ]
}